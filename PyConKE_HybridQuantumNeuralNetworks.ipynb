{
  "nbformat": 4,
  "nbformat_minor": 0,
  "metadata": {
    "colab": {
      "name": "PyConKE_HybridQuantumNeuralNetworks.ipynb",
      "provenance": []
    },
    "kernelspec": {
      "name": "python3",
      "display_name": "Python 3"
    },
    "language_info": {
      "name": "python"
    },
    "accelerator": "GPU"
  },
  "cells": [
    {
      "cell_type": "markdown",
      "source": [
        "# Hybrid Quantum Machine Learning\n",
        "\n",
        "The problem we will attempt to solve is to use Quantum Machine Learning to classify the MNIST dataset using a Variational Quantum Classifier. To solve this problem, we will employ a hybrid of classical and quantum neural networks. We will use a dimension reduced dataset due to the length of time required to solve the entire problem.\n",
        "\n",
        "\n",
        "This tutorial employs a quantum neural network (QNN) to classify a simplified version of MNIST, in a manner similar to that used by [Edward Farhi and Hartmut Neven](https://arxiv.org/pdf/1802.06002.pdf). The quantum neural network's performance on this classical data problem is compared to that of a classical neural network.\n",
        "\n",
        "## What we'll tackle\n",
        "\n",
        "1.   Build understanding of Classical Neural Network\n",
        "2.   Build image classification using MNIST dataset\n",
        "3.   Build an understanding of Quantum Neural Network (QNN)\n",
        "4.   Build hyrbid Quantum Neural Network"
      ],
      "metadata": {
        "id": "bfPPbkUgRd4-"
      }
    },
    {
      "cell_type": "markdown",
      "source": [
        "## 1. Classical Neural Network\n"
      ],
      "metadata": {
        "id": "jzhBiQCPTfw4"
      }
    },
    {
      "cell_type": "markdown",
      "source": [
        "A neural network is loosely modelled after the human brain, with many neurons connected to other neurons, passing information through their connections and firing when a neuron's input exceeds a certain threshold. Our artificial neural network will be made up of artificial neurons and synapses that communicate with one another. The synapses, or connections, will be weighted based on the strength of the neuron's influence in determining the output. These synaptic weights will be optimised using a technique known as backpropagation. Backpropagation will be used for each iteration of the training process to go back through the layers of the network and adjust the weights based on their contribution to the neural net's error."
      ],
      "metadata": {
        "id": "XD9ENSnktWDX"
      }
    },
    {
      "cell_type": "markdown",
      "source": [
        "![image.png](data:image/png;base64,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)"
      ],
      "metadata": {
        "id": "kQOqzyxmuH-F"
      }
    },
    {
      "cell_type": "code",
      "source": [
        "# import all necessary libraries\n",
        "from numpy import exp, array, random, dot, tanh"
      ],
      "metadata": {
        "id": "xmBUFZw6tnXE"
      },
      "execution_count": null,
      "outputs": []
    },
    {
      "cell_type": "code",
      "execution_count": null,
      "metadata": {
        "id": "A2BXMNvkQQDP"
      },
      "outputs": [],
      "source": [
        "# Class to create a neural\n",
        "class NeuralNetwork:\n",
        "\t\n",
        "\tdef __init__(self):\n",
        "\t\t\n",
        "\t\t# Using seed to make sure weight is constant\n",
        "\t\trandom.seed(42)\n",
        "\t\t\n",
        "\t\t# 4x1 Weight matrix\n",
        "\t\tself.weight_matrix = 2 * random.randn(4, 1) - 1\n",
        "\n",
        "\t# tanh as activation function\n",
        "\tdef tanh(self, x):\n",
        "\t\treturn tanh(x)\n",
        "\n",
        "\t# Needed to calculate the gradients.\n",
        "\tdef tanh_derivative(self, x):\n",
        "\t\treturn 1.0 - tanh(x) ** 2\n",
        "\t\t\n",
        "\t# forward propagation\n",
        "\tdef forward_propagation(self, inputs):\n",
        "\t    return self.tanh(dot(inputs, self.weight_matrix))\n",
        "\t    \n",
        "\t# training the neural network.\n",
        "\tdef train(self, train_inputs, train_outputs, num_train_iterations):\n",
        "\t\t# Number of iterations we want to\n",
        "\t\t# perform for this set of input.\n",
        "\t\tfor iteration in range(num_train_iterations):\n",
        "\t\t\toutput = self.forward_propagation(train_inputs)\n",
        "\n",
        "\t\t\t# Calculate the error in the output.\n",
        "\t\t\terror = train_outputs - output\n",
        "\n",
        "\t\t\t# multiply the error by input and then\n",
        "\t\t\t# by gradient of tanh function to calculate\n",
        "\t\t\t# the adjustment needs to be made in weights\n",
        "\t\t\tadjustment = dot(train_inputs.T, error *\n",
        "\t\t\t\t\t\t\tself.tanh_derivative(output))\n",
        "\t\t\t\t\t\t\t\n",
        "\t\t\t# Adjust the weight matrix\n",
        "\t\t\tself.weight_matrix += adjustment\n"
      ]
    },
    {
      "cell_type": "code",
      "source": [
        "neural_network = NeuralNetwork()\n",
        "\n",
        "print ('Random weights at the start of training')\n",
        "print (neural_network.weight_matrix)\n",
        "\n",
        "train_inputs = array([[0, 0, 0, 0], [1, 1, 1, 1], [0, 0, 1, 0], [1, 1, 0, 1], [1, 0, 0, 0], [0, 1, 1, 1], [0, 1, 0, 0], [1, 0, 1, 1]])\n",
        "train_outputs = array([[0, 0, 1, 1, 1, 1, 1, 1]]).T\n",
        "\n",
        "neural_network.train(train_inputs, train_outputs, 10000)\n",
        "\n",
        "print ('New weights after training')\n",
        "print (neural_network.weight_matrix)\n",
        "\n",
        "# Test the neural network with a new situation.\n",
        "print (\"Testing network on new examples ->\")\n",
        "print (neural_network.forward_propagation(array([1, 0, 1, 1])))"
      ],
      "metadata": {
        "id": "MqvmDEWlTqMn",
        "colab": {
          "base_uri": "https://localhost:8080/"
        },
        "outputId": "6ad75d0e-a457-48ab-a7cc-6a26dd64368f"
      },
      "execution_count": null,
      "outputs": [
        {
          "output_type": "stream",
          "name": "stdout",
          "text": [
            "Random weights at the start of training\n",
            "[[-0.00657169]\n",
            " [-1.2765286 ]\n",
            " [ 0.29537708]\n",
            " [ 2.04605971]]\n",
            "New weights after training\n",
            "[[ 0.89503917]\n",
            " [ 0.89503917]\n",
            " [ 0.89503917]\n",
            " [-1.02200471]]\n",
            "Testing network on new examples ->\n",
            "[0.6458079]\n"
          ]
        }
      ]
    },
    {
      "cell_type": "code",
      "source": [
        "import tensorflow\n",
        "from tensorflow.keras.datasets import mnist\n",
        "from tensorflow.keras.models import Sequential\n",
        "from tensorflow.keras.layers import Dense, Dropout\n",
        "from tensorflow.keras.optimizers import Adam\n",
        "import numpy as np\n",
        "import matplotlib.pyplot as plt"
      ],
      "metadata": {
        "id": "9cC-RcE9Tp4f"
      },
      "execution_count": null,
      "outputs": []
    },
    {
      "cell_type": "code",
      "source": [
        "# Load the data and split it to train and test\n",
        "(x_train, y_train), (x_test, y_test) = mnist.load_data()\n"
      ],
      "metadata": {
        "id": "uN2Lebve0H0Q"
      },
      "execution_count": null,
      "outputs": []
    },
    {
      "cell_type": "code",
      "source": [
        "# Looking at actual data in image form\n",
        "plt.imshow(x_train[0], cmap='gray')"
      ],
      "metadata": {
        "colab": {
          "base_uri": "https://localhost:8080/",
          "height": 282
        },
        "id": "vv9F9lOR0Hv2",
        "outputId": "bedac926-9d00-4179-b112-c90079d6bc21"
      },
      "execution_count": null,
      "outputs": [
        {
          "output_type": "execute_result",
          "data": {
            "text/plain": [
              "<matplotlib.image.AxesImage at 0x7f3bc2a86f90>"
            ]
          },
          "metadata": {},
          "execution_count": 6
        },
        {
          "output_type": "display_data",
          "data": {
            "text/plain": [
              "<Figure size 432x288 with 1 Axes>"
            ],
            "image/png": "[encoded data removed]"
          },
          "metadata": {
            "needs_background": "light"
          }
        }
      ]
    },
    {
      "cell_type": "code",
      "source": [
        "# The actual label for the above image\n",
        "y_train[0]"
      ],
      "metadata": {
        "colab": {
          "base_uri": "https://localhost:8080/"
        },
        "id": "tJNA6EQs0Pjs",
        "outputId": "ebbfd36f-f24e-40c0-bb0e-9b428313d5d0"
      },
      "execution_count": null,
      "outputs": [
        {
          "output_type": "execute_result",
          "data": {
            "text/plain": [
              "5"
            ]
          },
          "metadata": {},
          "execution_count": 7
        }
      ]
    },
    {
      "cell_type": "code",
      "source": [
        "# Lets check the shape for our images\n",
        "print(x_train.shape, 'train samples')\n",
        "print(x_test.shape, 'test samples')"
      ],
      "metadata": {
        "colab": {
          "base_uri": "https://localhost:8080/"
        },
        "id": "s0-FgwIP0Rko",
        "outputId": "954944a4-62c0-44c3-e5fa-5c2e0514384b"
      },
      "execution_count": null,
      "outputs": [
        {
          "output_type": "stream",
          "name": "stdout",
          "text": [
            "(60000, 28, 28) train samples\n",
            "(10000, 28, 28) test samples\n"
          ]
        }
      ]
    },
    {
      "cell_type": "code",
      "source": [
        "# To feed MNIST instances into a neural network, they need to be reshaped, from a 2 dimensional image representation to a single dimension sequence\n",
        "x_train = x_train.reshape(len(x_train), 28*28)\n",
        "x_test = x_test.reshape(len(x_test), 28*28)\n"
      ],
      "metadata": {
        "id": "yWY9ekcQ0RSL"
      },
      "execution_count": null,
      "outputs": []
    },
    {
      "cell_type": "code",
      "source": [
        "# Casting to floats\n",
        "x_train = x_train.astype(\"float32\")/255\n",
        "x_test = x_test.astype(\"float32\")/255\n"
      ],
      "metadata": {
        "id": "Dau2fg670Xr_"
      },
      "execution_count": null,
      "outputs": []
    },
    {
      "cell_type": "code",
      "source": [
        "# Converting target to binary class matrix\n",
        "classes = 10\n",
        "y_train = tensorflow.keras.utils.to_categorical(y_train, classes)\n",
        "y_test = tensorflow.keras.utils.to_categorical(y_test, classes)\n"
      ],
      "metadata": {
        "id": "aiKHASSw0XiA"
      },
      "execution_count": null,
      "outputs": []
    },
    {
      "cell_type": "code",
      "source": [
        "# Lets start with a simple model with 1 hidden layers\n",
        "model_1 = Sequential()\n",
        "model_1.add(Dense(64, activation=\"relu\", input_shape=(784, )))\n",
        "model_1.add(Dropout(0.3))\n",
        "model_1.add(Dense(64, activation='relu'))\n",
        "model_1.add(Dropout(0.3))\n",
        "model_1.add(Dense(10, activation='softmax'))\n",
        "model_1.summary()\n"
      ],
      "metadata": {
        "colab": {
          "base_uri": "https://localhost:8080/"
        },
        "id": "8AgYrMLF0PfW",
        "outputId": "66c091ee-db58-4b60-842d-318c785a18ff"
      },
      "execution_count": null,
      "outputs": [
        {
          "output_type": "stream",
          "name": "stdout",
          "text": [
            "Model: \"sequential\"\n",
            "_________________________________________________________________\n",
            " Layer (type)                Output Shape              Param #   \n",
            "=================================================================\n",
            " dense (Dense)               (None, 64)                50240     \n",
            "                                                                 \n",
            " dropout (Dropout)           (None, 64)                0         \n",
            "                                                                 \n",
            " dense_1 (Dense)             (None, 64)                4160      \n",
            "                                                                 \n",
            " dropout_1 (Dropout)         (None, 64)                0         \n",
            "                                                                 \n",
            " dense_2 (Dense)             (None, 10)                650       \n",
            "                                                                 \n",
            "=================================================================\n",
            "Total params: 55,050\n",
            "Trainable params: 55,050\n",
            "Non-trainable params: 0\n",
            "_________________________________________________________________\n"
          ]
        }
      ]
    },
    {
      "cell_type": "code",
      "source": [
        "model_1.compile(loss='categorical_crossentropy', optimizer=Adam(learning_rate=.001), metrics=['accuracy'])\n"
      ],
      "metadata": {
        "id": "mm6pR3vJ0d0m"
      },
      "execution_count": null,
      "outputs": []
    },
    {
      "cell_type": "code",
      "source": [
        "history = model_1.fit(x_train, y_train, batch_size=1024, epochs=10, verbose=1, validation_data=(x_test, y_test))\n"
      ],
      "metadata": {
        "colab": {
          "base_uri": "https://localhost:8080/"
        },
        "id": "sbKU3xw20ifS",
        "outputId": "f4385cc2-a1b3-4d6d-fbb0-7938ea29faad"
      },
      "execution_count": null,
      "outputs": [
        {
          "output_type": "stream",
          "name": "stdout",
          "text": [
            "Epoch 1/10\n",
            "59/59 [==============================] - 2s 16ms/step - loss: 1.2844 - accuracy: 0.5893 - val_loss: 0.4487 - val_accuracy: 0.8842\n",
            "Epoch 2/10\n",
            "59/59 [==============================] - 1s 10ms/step - loss: 0.5573 - accuracy: 0.8339 - val_loss: 0.2907 - val_accuracy: 0.9182\n",
            "Epoch 3/10\n",
            "59/59 [==============================] - 1s 11ms/step - loss: 0.4196 - accuracy: 0.8785 - val_loss: 0.2389 - val_accuracy: 0.9279\n",
            "Epoch 4/10\n",
            "59/59 [==============================] - 1s 11ms/step - loss: 0.3590 - accuracy: 0.8964 - val_loss: 0.2079 - val_accuracy: 0.9365\n",
            "Epoch 5/10\n",
            "59/59 [==============================] - 1s 9ms/step - loss: 0.3219 - accuracy: 0.9080 - val_loss: 0.1911 - val_accuracy: 0.9419\n",
            "Epoch 6/10\n",
            "59/59 [==============================] - 1s 10ms/step - loss: 0.2914 - accuracy: 0.9148 - val_loss: 0.1754 - val_accuracy: 0.9469\n",
            "Epoch 7/10\n",
            "59/59 [==============================] - 1s 9ms/step - loss: 0.2696 - accuracy: 0.9211 - val_loss: 0.1628 - val_accuracy: 0.9506\n",
            "Epoch 8/10\n",
            "59/59 [==============================] - 1s 11ms/step - loss: 0.2492 - accuracy: 0.9280 - val_loss: 0.1535 - val_accuracy: 0.9523\n",
            "Epoch 9/10\n",
            "59/59 [==============================] - 1s 12ms/step - loss: 0.2387 - accuracy: 0.9303 - val_loss: 0.1463 - val_accuracy: 0.9538\n",
            "Epoch 10/10\n",
            "59/59 [==============================] - 1s 12ms/step - loss: 0.2211 - accuracy: 0.9353 - val_loss: 0.1372 - val_accuracy: 0.9575\n"
          ]
        }
      ]
    },
    {
      "cell_type": "code",
      "source": [
        "## We will use Keras evaluate function to evaluate performance on the test set\n",
        "\n",
        "score = model_1.evaluate(x_test, y_test, verbose=0)\n",
        "print('Test loss:', score[0])\n",
        "print('Test accuracy:', score[1])"
      ],
      "metadata": {
        "colab": {
          "base_uri": "https://localhost:8080/"
        },
        "id": "fteMGzVR0mF8",
        "outputId": "01f527bc-1ecc-4383-f6a0-e12d4fd8a04b"
      },
      "execution_count": null,
      "outputs": [
        {
          "output_type": "stream",
          "name": "stdout",
          "text": [
            "Test loss: 0.13723327219486237\n",
            "Test accuracy: 0.9574999809265137\n"
          ]
        }
      ]
    },
    {
      "cell_type": "code",
      "source": [
        "def plot_loss_accuracy(history):\n",
        "    fig = plt.figure(figsize=(12, 6))\n",
        "    ax = fig.add_subplot(1, 2, 1)\n",
        "    ax.plot(history.history[\"loss\"],'r-d', label=\"Train Loss\")\n",
        "    ax.plot(history.history[\"val_loss\"],'b-d', label=\"Validation Loss\")\n",
        "    ax.legend()\n",
        "    ax.set_title('cross_entropy loss')\n",
        "    ax.grid(True)\n",
        "\n",
        "    ax = fig.add_subplot(1, 2, 2)\n",
        "    ax.plot(history.history[\"accuracy\"],'r-d', label=\"Train Accuracy\")\n",
        "    ax.plot(history.history[\"val_accuracy\"],'b-d', label=\"Validation Accuracy\")\n",
        "    ax.legend()\n",
        "    ax.set_title('accuracy')\n",
        "    ax.grid(True)"
      ],
      "metadata": {
        "id": "sF-wFLGa0dxG"
      },
      "execution_count": null,
      "outputs": []
    },
    {
      "cell_type": "code",
      "source": [
        "plot_loss_accuracy(history)"
      ],
      "metadata": {
        "colab": {
          "base_uri": "https://localhost:8080/",
          "height": 390
        },
        "id": "mmfV4hRQy2oD",
        "outputId": "540054ff-a21c-4ce7-cb70-536932b4f862"
      },
      "execution_count": null,
      "outputs": [
        {
          "output_type": "display_data",
          "data": {
            "text/plain": [
              "<Figure size 864x432 with 2 Axes>"
            ],
            "image/png": "[encoded data removed]"
          },
          "metadata": {
            "needs_background": "light"
          }
        }
      ]
    },
    {
      "cell_type": "markdown",
      "source": [
        "### Exercise\n",
        "#### Your Turn: Build your own model\n",
        "Use the Keras \"Sequential\" functionality to build `model_2` with the following specifications:\n",
        "\n",
        "1. Three hidden layers.\n",
        "2. Layers\n",
        " - First 300\n",
        " - Second 200\n",
        " - Third 100\n",
        "3. Dropout of .4 at each layer\n",
        "4. How many parameters does your model have?\n",
        "4. Train this model for 20 epochs with RMSProp at a learning rate of .001 and a batch size of 128\n",
        "\n",
        "\n"
      ],
      "metadata": {
        "id": "-Hw5BUPQ4KKe"
      }
    },
    {
      "cell_type": "code",
      "source": [
        "from tensorflow.keras.preprocessing.image import ImageDataGenerator\n",
        "from tensorflow.keras.layers import Dense, Dropout, Activation, Flatten\n",
        "from tensorflow.keras.layers import Conv2D, MaxPooling2D\n",
        "import matplotlib.pyplot as plt"
      ],
      "metadata": {
        "id": "UX1aot_k1XmW"
      },
      "execution_count": null,
      "outputs": []
    },
    {
      "cell_type": "code",
      "source": [
        "(x_train, y_train), (x_test, y_test) = mnist.load_data()\n",
        "print('x_train shape:', x_train.shape)\n",
        "print(x_train.shape[0], 'train samples')\n",
        "print(x_test.shape[0], 'test samples')\n"
      ],
      "metadata": {
        "colab": {
          "base_uri": "https://localhost:8080/"
        },
        "id": "iS0uH1tu1XX9",
        "outputId": "757137b6-944b-4791-a94d-4e92cc7f2718"
      },
      "execution_count": null,
      "outputs": [
        {
          "output_type": "stream",
          "name": "stdout",
          "text": [
            "x_train shape: (60000, 28, 28)\n",
            "60000 train samples\n",
            "10000 test samples\n"
          ]
        }
      ]
    },
    {
      "cell_type": "code",
      "source": [
        "# Lets look at one of the images and its label\n",
        "print(y_train[0])\n",
        "plt.imshow(x_train[0])"
      ],
      "metadata": {
        "colab": {
          "base_uri": "https://localhost:8080/",
          "height": 300
        },
        "id": "lxNX7QTX1XNa",
        "outputId": "14fd48a3-3b8c-4b62-8085-e492142de4e9"
      },
      "execution_count": null,
      "outputs": [
        {
          "output_type": "stream",
          "name": "stdout",
          "text": [
            "5\n"
          ]
        },
        {
          "output_type": "execute_result",
          "data": {
            "text/plain": [
              "<matplotlib.image.AxesImage at 0x7f3b49a48a50>"
            ]
          },
          "metadata": {},
          "execution_count": 20
        },
        {
          "output_type": "display_data",
          "data": {
            "text/plain": [
              "<Figure size 432x288 with 1 Axes>"
            ],
            "image/png": "[encoded data removed]"
          },
          "metadata": {
            "needs_background": "light"
          }
        }
      ]
    },
    {
      "cell_type": "code",
      "source": [
        "classes = 10\n",
        "\n",
        "y_train = tensorflow.keras.utils.to_categorical(y_train, classes)\n",
        "y_test = tensorflow.keras.utils.to_categorical(y_test, classes)\n"
      ],
      "metadata": {
        "id": "elfvGdHV1XAO"
      },
      "execution_count": null,
      "outputs": []
    },
    {
      "cell_type": "code",
      "source": [
        "# Making everything to be float and scale\n",
        "x_train = x_train.astype('float32')/255\n",
        "x_test = x_test.astype('float32')/255"
      ],
      "metadata": {
        "id": "DxOdv-6A13Wo"
      },
      "execution_count": null,
      "outputs": []
    },
    {
      "cell_type": "markdown",
      "source": [
        "### Conv2D\n",
        "\n",
        "```python\n",
        "keras.layers.Conv2D(filters, kernel_size, strides=(1, 1), padding='valid', data_format=None, dilation_rate=(1, 1), activation=None, use_bias=True, kernel_initializer='glorot_uniform', bias_initializer='zeros', kernel_regularizer=None, bias_regularizer=None, activity_regularizer=None, kernel_constraint=None, bias_constraint=None)\n",
        "```\n",
        "When using this layer as the first layer in a model, provide the keyword argument input_shape\n",
        "\n",
        "- `filters`: Integer, the number of output filters in the convolution.\n",
        "- `kernel_size`: An integer or tuple/list of 2 integers, specifying the height and width of the 2D convolution window.\n",
        "- `strides`: and (x,y) tuple giving the stride in each dimension.  Default is `(1,1)`\n",
        "- `activation`: Activation function to use. If you don't specify anything, no activation is applied.\n",
        "\n",
        "\n",
        "Note, the size of the output will be determined by the kernel_size, strides\n",
        "\n",
        "### MaxPooling2D\n",
        "```python\n",
        "keras.layers.MaxPooling2D(pool_size=(2, 2), strides=None, padding='valid', data_format=None)\n",
        "```\n",
        "\n",
        "- `pool_size`: Integer or tuple of 2 integers, factors by which to downscale (vertical, horizontal).\n",
        "- `strides`: Integer, tuple of 2 integers, or None. Strides values.\n",
        "\n",
        "### Flatten\n",
        "```python\n",
        "keras.layers.Flatten(data_format=None)\n",
        "```\n",
        "Turns its input into a one-dimensional vector (per instance). Usually used when transitioning between convolutional layers and fully connected layers.\n",
        "\n",
        "### Activation\n",
        "```python\n",
        "keras.layers.Activation(activation)\n",
        "```\n",
        "\n",
        "Applies an activation function to the output\n",
        "\n",
        "### Sequential\n",
        "The Sequential model is a linear stack of layers. You can create a Sequential model by passing a list of layer instances to the constructor\n",
        "\n"
      ],
      "metadata": {
        "id": "hpcvB0Us2D0O"
      }
    },
    {
      "cell_type": "code",
      "source": [
        "\n",
        "model_1 = Sequential()\n",
        "\n",
        "model_1.add(Conv2D(32, (3, 3), activation='relu', kernel_initializer='he_uniform', input_shape=(28, 28, 1)))\n",
        "model_1.add(Activation('relu'))\n",
        "model_1.add(Conv2D(64, (4, 4), strides = (2,2)))\n",
        "model_1.add(Activation('relu'))\n",
        "model_1.add(MaxPooling2D(pool_size=(2, 2)))\n",
        "model_1.add(Dropout(0.3))\n",
        "model_1.add(Flatten())\n",
        "model_1.add(Dense(512))\n",
        "model_1.add(Activation('relu'))\n",
        "model_1.add(Dropout(0.5))\n",
        "model_1.add(Dense(classes))\n",
        "model_1.add(Activation('softmax'))\n",
        "\n",
        "model_1.summary()"
      ],
      "metadata": {
        "colab": {
          "base_uri": "https://localhost:8080/"
        },
        "id": "dZ2nT-Zb13S9",
        "outputId": "a87bc521-d1fd-4ce4-e188-012c30fa0a6a"
      },
      "execution_count": null,
      "outputs": [
        {
          "output_type": "stream",
          "name": "stdout",
          "text": [
            "Model: \"sequential_1\"\n",
            "_________________________________________________________________\n",
            " Layer (type)                Output Shape              Param #   \n",
            "=================================================================\n",
            " conv2d (Conv2D)             (None, 26, 26, 32)        320       \n",
            "                                                                 \n",
            " activation (Activation)     (None, 26, 26, 32)        0         \n",
            "                                                                 \n",
            " conv2d_1 (Conv2D)           (None, 12, 12, 64)        32832     \n",
            "                                                                 \n",
            " activation_1 (Activation)   (None, 12, 12, 64)        0         \n",
            "                                                                 \n",
            " max_pooling2d (MaxPooling2D  (None, 6, 6, 64)         0         \n",
            " )                                                               \n",
            "                                                                 \n",
            " dropout_2 (Dropout)         (None, 6, 6, 64)          0         \n",
            "                                                                 \n",
            " flatten (Flatten)           (None, 2304)              0         \n",
            "                                                                 \n",
            " dense_3 (Dense)             (None, 512)               1180160   \n",
            "                                                                 \n",
            " activation_2 (Activation)   (None, 512)               0         \n",
            "                                                                 \n",
            " dropout_3 (Dropout)         (None, 512)               0         \n",
            "                                                                 \n",
            " dense_4 (Dense)             (None, 10)                5130      \n",
            "                                                                 \n",
            " activation_3 (Activation)   (None, 10)                0         \n",
            "                                                                 \n",
            "=================================================================\n",
            "Total params: 1,218,442\n",
            "Trainable params: 1,218,442\n",
            "Non-trainable params: 0\n",
            "_________________________________________________________________\n"
          ]
        }
      ]
    },
    {
      "cell_type": "code",
      "source": [
        "model_1.compile(loss='categorical_crossentropy', optimizer=Adam(learning_rate=0.0005, decay=1e-6), metrics=['accuracy'])\n",
        "model_1.fit(x_train, y_train, batch_size=1024, epochs=10, validation_data=(x_test, y_test), shuffle=True)\n"
      ],
      "metadata": {
        "colab": {
          "base_uri": "https://localhost:8080/"
        },
        "id": "PwiZSYXo2J9U",
        "outputId": "34f1325a-8a0f-432b-81f4-d5eff73fd189"
      },
      "execution_count": null,
      "outputs": [
        {
          "output_type": "stream",
          "name": "stdout",
          "text": [
            "Epoch 1/10\n",
            "59/59 [==============================] - 9s 92ms/step - loss: 0.5775 - accuracy: 0.8155 - val_loss: 0.1201 - val_accuracy: 0.9655\n",
            "Epoch 2/10\n",
            "59/59 [==============================] - 4s 71ms/step - loss: 0.1439 - accuracy: 0.9557 - val_loss: 0.0655 - val_accuracy: 0.9805\n",
            "Epoch 3/10\n",
            "59/59 [==============================] - 4s 74ms/step - loss: 0.1004 - accuracy: 0.9693 - val_loss: 0.0515 - val_accuracy: 0.9838\n",
            "Epoch 4/10\n",
            "59/59 [==============================] - 4s 63ms/step - loss: 0.0789 - accuracy: 0.9753 - val_loss: 0.0411 - val_accuracy: 0.9862\n",
            "Epoch 5/10\n",
            "59/59 [==============================] - 4s 63ms/step - loss: 0.0648 - accuracy: 0.9800 - val_loss: 0.0374 - val_accuracy: 0.9880\n",
            "Epoch 6/10\n",
            "59/59 [==============================] - 4s 63ms/step - loss: 0.0592 - accuracy: 0.9817 - val_loss: 0.0330 - val_accuracy: 0.9878\n",
            "Epoch 7/10\n",
            "59/59 [==============================] - 4s 65ms/step - loss: 0.0522 - accuracy: 0.9837 - val_loss: 0.0297 - val_accuracy: 0.9905\n",
            "Epoch 8/10\n",
            "59/59 [==============================] - 4s 66ms/step - loss: 0.0466 - accuracy: 0.9854 - val_loss: 0.0272 - val_accuracy: 0.9909\n",
            "Epoch 9/10\n",
            "59/59 [==============================] - 4s 63ms/step - loss: 0.0424 - accuracy: 0.9865 - val_loss: 0.0261 - val_accuracy: 0.9907\n",
            "Epoch 10/10\n",
            "59/59 [==============================] - 4s 64ms/step - loss: 0.0376 - accuracy: 0.9880 - val_loss: 0.0259 - val_accuracy: 0.9908\n"
          ]
        },
        {
          "output_type": "execute_result",
          "data": {
            "text/plain": [
              "<keras.callbacks.History at 0x7f3b49a07b10>"
            ]
          },
          "metadata": {},
          "execution_count": 24
        }
      ]
    },
    {
      "cell_type": "code",
      "source": [
        "\n",
        "score = model_1.evaluate(x_test, y_test, verbose=0)\n",
        "print('Test loss:', score[0])\n",
        "print('Test accuracy:', score[1])"
      ],
      "metadata": {
        "colab": {
          "base_uri": "https://localhost:8080/"
        },
        "id": "IVQUZinS2LhQ",
        "outputId": "84559400-eea5-4a8c-b209-666f4231b235"
      },
      "execution_count": null,
      "outputs": [
        {
          "output_type": "stream",
          "name": "stdout",
          "text": [
            "Test loss: 0.025894302874803543\n",
            "Test accuracy: 0.9908000230789185\n"
          ]
        }
      ]
    },
    {
      "cell_type": "markdown",
      "source": [
        "### Exercise\n",
        "Our previous model had the structure:\n",
        "\n",
        "Conv -> Conv -> MaxPool -> Flatten -> Dense -> Final Classification\n",
        "\n",
        "(with appropriate activation functions and dropouts)\n",
        "\n",
        "1. Build a more complicated model with the following pattern:\n",
        "- Conv -> Conv -> Conv -> MaxPool -> Conv -> Conv -> MaxPool -> Flatten -> Dense -> Dense -> Final Classification\n",
        "\n",
        "- Use strides of 1 for all convolutional layers.\n",
        "\n",
        "2. How many parameters does your model have\n"
      ],
      "metadata": {
        "id": "czHnuGNl2VpV"
      }
    },
    {
      "cell_type": "markdown",
      "source": [
        "## 2. Quantum Circuits"
      ],
      "metadata": {
        "id": "kRa-j5935LwP"
      }
    },
    {
      "cell_type": "code",
      "source": [
        "!pip install qiskit pylatexenc"
      ],
      "metadata": {
        "id": "jKWCIB-U5_s9"
      },
      "execution_count": null,
      "outputs": []
    },
    {
      "cell_type": "code",
      "source": [
        "import numpy as np\n",
        "from qiskit import *\n",
        "from qiskit.visualization import plot_state_city"
      ],
      "metadata": {
        "id": "_ZeEymGPy1xp"
      },
      "execution_count": null,
      "outputs": []
    },
    {
      "cell_type": "code",
      "source": [
        "# Create a Quantum Circuit acting on a quantum register of three qubits\n",
        "circ = QuantumCircuit(3)"
      ],
      "metadata": {
        "id": "C_EBfH1K6JQW"
      },
      "execution_count": null,
      "outputs": []
    },
    {
      "cell_type": "code",
      "source": [
        "# Add a H gate on qubit 0, putting this qubit in superposition.\n",
        "circ.h(0)\n",
        "# Add a CX (CNOT) gate on control qubit 0 and target qubit 1, putting\n",
        "# the qubits in a Bell state.\n",
        "circ.cx(0, 1)\n",
        "# Add a CX (CNOT) gate on control qubit 0 and target qubit 2, putting\n",
        "# the qubits in a GHZ state.\n",
        "circ.cx(0, 2)"
      ],
      "metadata": {
        "colab": {
          "base_uri": "https://localhost:8080/"
        },
        "id": "KT3k6-pV6JK1",
        "outputId": "1304a859-1d59-40b5-d478-df9b3ababa83"
      },
      "execution_count": null,
      "outputs": [
        {
          "output_type": "execute_result",
          "data": {
            "text/plain": [
              "<qiskit.circuit.instructionset.InstructionSet at 0x7f3b49b4a140>"
            ]
          },
          "metadata": {},
          "execution_count": 29
        }
      ]
    },
    {
      "cell_type": "code",
      "source": [
        "circ.draw('mpl')"
      ],
      "metadata": {
        "colab": {
          "base_uri": "https://localhost:8080/",
          "height": 185
        },
        "id": "4EYaw6UO6JFl",
        "outputId": "8036818a-ac95-4600-8e84-9a637b070c41"
      },
      "execution_count": null,
      "outputs": [
        {
          "output_type": "execute_result",
          "data": {
            "text/plain": [
              "<Figure size 267.197x204.68 with 1 Axes>"
            ],
            "image/png": "[encoded data removed]"
          },
          "metadata": {},
          "execution_count": 30
        }
      ]
    },
    {
      "cell_type": "code",
      "source": [
        "# Import Aer\n",
        "from qiskit import Aer\n",
        "\n",
        "# Run the quantum circuit on a statevector simulator backend\n",
        "backend = Aer.get_backend('statevector_simulator')"
      ],
      "metadata": {
        "id": "DMFLzjO96JB0"
      },
      "execution_count": null,
      "outputs": []
    },
    {
      "cell_type": "code",
      "source": [
        "# Create a Quantum Program for execution\n",
        "job = backend.run(circ)"
      ],
      "metadata": {
        "id": "z-UNiBn-6IsE"
      },
      "execution_count": null,
      "outputs": []
    },
    {
      "cell_type": "code",
      "source": [
        "result = job.result()"
      ],
      "metadata": {
        "id": "hisbdh026InW"
      },
      "execution_count": null,
      "outputs": []
    },
    {
      "cell_type": "code",
      "source": [
        "outputstate = result.get_statevector(circ, decimals=3)\n",
        "plot_state_city(outputstate)"
      ],
      "metadata": {
        "colab": {
          "base_uri": "https://localhost:8080/",
          "height": 302
        },
        "id": "qQQd9jmD6Ikb",
        "outputId": "dc7985d5-fd82-4fa1-da82-4fbf2237f44b"
      },
      "execution_count": null,
      "outputs": [
        {
          "output_type": "execute_result",
          "data": {
            "text/plain": [
              "<Figure size 1080x360 with 2 Axes>"
            ],
            "image/png": "[encoded data removed]"
          },
          "metadata": {},
          "execution_count": 34
        }
      ]
    },
    {
      "cell_type": "code",
      "source": [
        ""
      ],
      "metadata": {
        "id": "UuEC_hat7bqe"
      },
      "execution_count": null,
      "outputs": []
    },
    {
      "cell_type": "code",
      "source": [
        "from qiskit.circuit import Parameter\n",
        "\n",
        "theta = Parameter('θ')\n",
        "\n",
        "n = 5\n",
        "\n",
        "qc = QuantumCircuit(5, 1)\n",
        "\n",
        "qc.h(0)\n",
        "for i in range(n-1):\n",
        "    qc.cx(i, i+1)\n",
        "\n",
        "qc.barrier()\n",
        "qc.rz(theta, range(5))\n",
        "qc.barrier()\n",
        "\n",
        "for i in reversed(range(n-1)):\n",
        "    qc.cx(i, i+1)\n",
        "qc.h(0)\n",
        "qc.measure(0, 0)\n",
        "\n",
        "qc.draw('mpl')"
      ],
      "metadata": {
        "colab": {
          "base_uri": "https://localhost:8080/",
          "height": 322
        },
        "id": "2svdDqX17bZd",
        "outputId": "ef2d192c-5efe-4a29-b069-f6331e459bd2"
      },
      "execution_count": null,
      "outputs": [
        {
          "output_type": "execute_result",
          "data": {
            "text/plain": [
              "<Figure size 929.397x385.28 with 1 Axes>"
            ],
            "image/png": "[encoded data removed]"
          },
          "metadata": {},
          "execution_count": 35
        }
      ]
    },
    {
      "cell_type": "code",
      "source": [
        "theta_range = np.linspace(0, 2 * np.pi, 128)\n",
        "\n",
        "circuits = [qc.bind_parameters({theta: theta_val})\n",
        "            for theta_val in theta_range]\n",
        "\n",
        "circuits[-1].draw()"
      ],
      "metadata": {
        "colab": {
          "base_uri": "https://localhost:8080/",
          "height": 212
        },
        "id": "o9dd4tzny1i1",
        "outputId": "72fc1cc9-a196-46d9-c937-330c9ec75bda"
      },
      "execution_count": null,
      "outputs": [
        {
          "output_type": "execute_result",
          "data": {
            "text/plain": [
              "     ┌───┐                     ░ ┌────────┐ ░                     ┌───┐┌─┐\n",
              "q_0: ┤ H ├──■──────────────────░─┤ Rz(2π) ├─░──────────────────■──┤ H ├┤M├\n",
              "     └───┘┌─┴─┐                ░ ├────────┤ ░                ┌─┴─┐└───┘└╥┘\n",
              "q_1: ─────┤ X ├──■─────────────░─┤ Rz(2π) ├─░─────────────■──┤ X ├──────╫─\n",
              "          └───┘┌─┴─┐           ░ ├────────┤ ░           ┌─┴─┐└───┘      ║ \n",
              "q_2: ──────────┤ X ├──■────────░─┤ Rz(2π) ├─░────────■──┤ X ├───────────╫─\n",
              "               └───┘┌─┴─┐      ░ ├────────┤ ░      ┌─┴─┐└───┘           ║ \n",
              "q_3: ───────────────┤ X ├──■───░─┤ Rz(2π) ├─░───■──┤ X ├────────────────╫─\n",
              "                    └───┘┌─┴─┐ ░ ├────────┤ ░ ┌─┴─┐└───┘                ║ \n",
              "q_4: ────────────────────┤ X ├─░─┤ Rz(2π) ├─░─┤ X ├─────────────────────╫─\n",
              "                         └───┘ ░ └────────┘ ░ └───┘                     ║ \n",
              "c: 1/═══════════════════════════════════════════════════════════════════╩═\n",
              "                                                                        0 "
            ],
            "text/html": [
              "<pre style=\"word-wrap: normal;white-space: pre;background: #fff0;line-height: 1.1;font-family: &quot;Courier New&quot;,Courier,monospace\">     ┌───┐                     ░ ┌────────┐ ░                     ┌───┐┌─┐\n",
              "q_0: ┤ H ├──■──────────────────░─┤ Rz(2π) ├─░──────────────────■──┤ H ├┤M├\n",
              "     └───┘┌─┴─┐                ░ ├────────┤ ░                ┌─┴─┐└───┘└╥┘\n",
              "q_1: ─────┤ X ├──■─────────────░─┤ Rz(2π) ├─░─────────────■──┤ X ├──────╫─\n",
              "          └───┘┌─┴─┐           ░ ├────────┤ ░           ┌─┴─┐└───┘      ║ \n",
              "q_2: ──────────┤ X ├──■────────░─┤ Rz(2π) ├─░────────■──┤ X ├───────────╫─\n",
              "               └───┘┌─┴─┐      ░ ├────────┤ ░      ┌─┴─┐└───┘           ║ \n",
              "q_3: ───────────────┤ X ├──■───░─┤ Rz(2π) ├─░───■──┤ X ├────────────────╫─\n",
              "                    └───┘┌─┴─┐ ░ ├────────┤ ░ ┌─┴─┐└───┘                ║ \n",
              "q_4: ────────────────────┤ X ├─░─┤ Rz(2π) ├─░─┤ X ├─────────────────────╫─\n",
              "                         └───┘ ░ └────────┘ ░ └───┘                     ║ \n",
              "c: 1/═══════════════════════════════════════════════════════════════════╩═\n",
              "                                                                        0 </pre>"
            ]
          },
          "metadata": {},
          "execution_count": 36
        }
      ]
    },
    {
      "cell_type": "code",
      "source": [
        "backend = BasicAer.get_backend('qasm_simulator')\n",
        "job = backend.run(transpile(circuits, backend))\n",
        "counts = job.result().get_counts()"
      ],
      "metadata": {
        "id": "byEI0-V57m92"
      },
      "execution_count": null,
      "outputs": []
    },
    {
      "cell_type": "code",
      "source": [
        "import matplotlib.pyplot as plt\n",
        "fig = plt.figure(figsize=(8,6))\n",
        "ax = fig.add_subplot(111)\n",
        "\n",
        "ax.plot(theta_range, list(map(lambda c: c.get('0', 0), counts)), '.-', label='0')\n",
        "ax.plot(theta_range, list(map(lambda c: c.get('1', 0), counts)), '.-', label='1')\n",
        "\n",
        "ax.set_xticks([i * np.pi / 2 for i in range(5)])\n",
        "ax.set_xticklabels(['0', r'$\\frac{\\pi}{2}$', r'$\\pi$', r'$\\frac{3\\pi}{2}$', r'$2\\pi$'], fontsize=14)\n",
        "ax.set_xlabel('θ', fontsize=14)\n",
        "ax.set_ylabel('Counts', fontsize=14)\n",
        "ax.legend(fontsize=14)"
      ],
      "metadata": {
        "colab": {
          "base_uri": "https://localhost:8080/",
          "height": 423
        },
        "id": "nN31oBlh7muS",
        "outputId": "04ef39e3-c7ea-41c8-e3b6-de3f72307c57"
      },
      "execution_count": null,
      "outputs": [
        {
          "output_type": "execute_result",
          "data": {
            "text/plain": [
              "<matplotlib.legend.Legend at 0x7f3ac60e1ed0>"
            ]
          },
          "metadata": {},
          "execution_count": 38
        },
        {
          "output_type": "display_data",
          "data": {
            "text/plain": [
              "<Figure size 576x432 with 1 Axes>"
            ],
            "image/png": "[encoded data removed]"
          },
          "metadata": {
            "needs_background": "light"
          }
        }
      ]
    },
    {
      "cell_type": "markdown",
      "source": [
        "## 3. Quantum NN"
      ],
      "metadata": {
        "id": "jeCYzD1G5eCo"
      }
    },
    {
      "cell_type": "markdown",
      "source": [
        "Check out [this repo](https://github.com/0x6f736f646f/variational-quantum-classifier-on-heartattack/tree/main/Src/Notebooks)\n"
      ],
      "metadata": {
        "id": "5B67gudx8TRh"
      }
    },
    {
      "cell_type": "code",
      "source": [
        ""
      ],
      "metadata": {
        "id": "8rZscFIl-DjA"
      },
      "execution_count": null,
      "outputs": []
    },
    {
      "cell_type": "markdown",
      "source": [
        "## 4. Hyrbid Quantum Neural Network\n"
      ],
      "metadata": {
        "id": "b9SdOHxrTqqn"
      }
    },
    {
      "cell_type": "markdown",
      "source": [
        "### Install packages\n",
        "\n",
        "If you have the packages installed feel free to skip this code block"
      ],
      "metadata": {
        "id": "YvlhaRW_T36q"
      }
    },
    {
      "cell_type": "code",
      "source": [
        "!pip install tensorflow==2.7.0 tensorflow-quantum\n",
        "!pip install pennylane --upgrade"
      ],
      "metadata": {
        "id": "1LUsZ6w0TuHK",
        "colab": {
          "base_uri": "https://localhost:8080/",
          "height": 1000
        },
        "outputId": "9a9291b4-ec05-4035-848d-77d54b68368b"
      },
      "execution_count": null,
      "outputs": [
        {
          "output_type": "stream",
          "name": "stdout",
          "text": [
            "Collecting tensorflow==2.7.0\n",
            "  Downloading tensorflow-2.7.0-cp37-cp37m-manylinux2010_x86_64.whl (489.6 MB)\n",
            "\u001b[K     |████████████████████████████████| 489.6 MB 27 kB/s \n",
            "\u001b[?25hCollecting tensorflow-quantum\n",
            "  Downloading tensorflow_quantum-0.6.1-cp37-cp37m-manylinux_2_12_x86_64.manylinux2010_x86_64.whl (10.5 MB)\n",
            "\u001b[K     |████████████████████████████████| 10.5 MB 20.8 MB/s \n",
            "\u001b[?25hRequirement already satisfied: absl-py>=0.4.0 in /usr/local/lib/python3.7/dist-packages (from tensorflow==2.7.0) (1.0.0)\n",
            "Requirement already satisfied: typing-extensions>=3.6.6 in /usr/local/lib/python3.7/dist-packages (from tensorflow==2.7.0) (4.2.0)\n",
            "Requirement already satisfied: grpcio<2.0,>=1.24.3 in /usr/local/lib/python3.7/dist-packages (from tensorflow==2.7.0) (1.44.0)\n",
            "Requirement already satisfied: wrapt>=1.11.0 in /usr/local/lib/python3.7/dist-packages (from tensorflow==2.7.0) (1.14.0)\n",
            "Requirement already satisfied: astunparse>=1.6.0 in /usr/local/lib/python3.7/dist-packages (from tensorflow==2.7.0) (1.6.3)\n",
            "Requirement already satisfied: h5py>=2.9.0 in /usr/local/lib/python3.7/dist-packages (from tensorflow==2.7.0) (3.1.0)\n",
            "Requirement already satisfied: google-pasta>=0.1.1 in /usr/local/lib/python3.7/dist-packages (from tensorflow==2.7.0) (0.2.0)\n",
            "Collecting gast<0.5.0,>=0.2.1\n",
            "  Downloading gast-0.4.0-py3-none-any.whl (9.8 kB)\n",
            "Requirement already satisfied: libclang>=9.0.1 in /usr/local/lib/python3.7/dist-packages (from tensorflow==2.7.0) (14.0.1)\n",
            "Requirement already satisfied: keras-preprocessing>=1.1.1 in /usr/local/lib/python3.7/dist-packages (from tensorflow==2.7.0) (1.1.2)\n",
            "Requirement already satisfied: flatbuffers<3.0,>=1.12 in /usr/local/lib/python3.7/dist-packages (from tensorflow==2.7.0) (2.0)\n",
            "Collecting tensorflow-estimator<2.8,~=2.7.0rc0\n",
            "  Downloading tensorflow_estimator-2.7.0-py2.py3-none-any.whl (463 kB)\n",
            "\u001b[K     |████████████████████████████████| 463 kB 47.2 MB/s \n",
            "\u001b[?25hRequirement already satisfied: tensorflow-io-gcs-filesystem>=0.21.0 in /usr/local/lib/python3.7/dist-packages (from tensorflow==2.7.0) (0.25.0)\n",
            "Requirement already satisfied: wheel<1.0,>=0.32.0 in /usr/local/lib/python3.7/dist-packages (from tensorflow==2.7.0) (0.37.1)\n",
            "Requirement already satisfied: protobuf>=3.9.2 in /usr/local/lib/python3.7/dist-packages (from tensorflow==2.7.0) (3.17.3)\n",
            "Requirement already satisfied: termcolor>=1.1.0 in /usr/local/lib/python3.7/dist-packages (from tensorflow==2.7.0) (1.1.0)\n",
            "Requirement already satisfied: six>=1.12.0 in /usr/local/lib/python3.7/dist-packages (from tensorflow==2.7.0) (1.15.0)\n",
            "Requirement already satisfied: opt-einsum>=2.3.2 in /usr/local/lib/python3.7/dist-packages (from tensorflow==2.7.0) (3.3.0)\n",
            "Requirement already satisfied: tensorboard~=2.6 in /usr/local/lib/python3.7/dist-packages (from tensorflow==2.7.0) (2.8.0)\n",
            "Collecting keras<2.8,>=2.7.0rc0\n",
            "  Downloading keras-2.7.0-py2.py3-none-any.whl (1.3 MB)\n",
            "\u001b[K     |████████████████████████████████| 1.3 MB 38.0 MB/s \n",
            "\u001b[?25hRequirement already satisfied: numpy>=1.14.5 in /usr/local/lib/python3.7/dist-packages (from tensorflow==2.7.0) (1.21.6)\n",
            "Requirement already satisfied: cached-property in /usr/local/lib/python3.7/dist-packages (from h5py>=2.9.0->tensorflow==2.7.0) (1.5.2)\n",
            "Requirement already satisfied: markdown>=2.6.8 in /usr/local/lib/python3.7/dist-packages (from tensorboard~=2.6->tensorflow==2.7.0) (3.3.6)\n",
            "Requirement already satisfied: setuptools>=41.0.0 in /usr/local/lib/python3.7/dist-packages (from tensorboard~=2.6->tensorflow==2.7.0) (57.4.0)\n",
            "Requirement already satisfied: google-auth-oauthlib<0.5,>=0.4.1 in /usr/local/lib/python3.7/dist-packages (from tensorboard~=2.6->tensorflow==2.7.0) (0.4.6)\n",
            "Requirement already satisfied: tensorboard-plugin-wit>=1.6.0 in /usr/local/lib/python3.7/dist-packages (from tensorboard~=2.6->tensorflow==2.7.0) (1.8.1)\n",
            "Requirement already satisfied: werkzeug>=0.11.15 in /usr/local/lib/python3.7/dist-packages (from tensorboard~=2.6->tensorflow==2.7.0) (1.0.1)\n",
            "Requirement already satisfied: tensorboard-data-server<0.7.0,>=0.6.0 in /usr/local/lib/python3.7/dist-packages (from tensorboard~=2.6->tensorflow==2.7.0) (0.6.1)\n",
            "Requirement already satisfied: google-auth<3,>=1.6.3 in /usr/local/lib/python3.7/dist-packages (from tensorboard~=2.6->tensorflow==2.7.0) (1.35.0)\n",
            "Requirement already satisfied: requests<3,>=2.21.0 in /usr/local/lib/python3.7/dist-packages (from tensorboard~=2.6->tensorflow==2.7.0) (2.23.0)\n",
            "Requirement already satisfied: pyasn1-modules>=0.2.1 in /usr/local/lib/python3.7/dist-packages (from google-auth<3,>=1.6.3->tensorboard~=2.6->tensorflow==2.7.0) (0.2.8)\n",
            "Requirement already satisfied: rsa<5,>=3.1.4 in /usr/local/lib/python3.7/dist-packages (from google-auth<3,>=1.6.3->tensorboard~=2.6->tensorflow==2.7.0) (4.8)\n",
            "Requirement already satisfied: cachetools<5.0,>=2.0.0 in /usr/local/lib/python3.7/dist-packages (from google-auth<3,>=1.6.3->tensorboard~=2.6->tensorflow==2.7.0) (4.2.4)\n",
            "Requirement already satisfied: requests-oauthlib>=0.7.0 in /usr/local/lib/python3.7/dist-packages (from google-auth-oauthlib<0.5,>=0.4.1->tensorboard~=2.6->tensorflow==2.7.0) (1.3.1)\n",
            "Requirement already satisfied: importlib-metadata>=4.4 in /usr/local/lib/python3.7/dist-packages (from markdown>=2.6.8->tensorboard~=2.6->tensorflow==2.7.0) (4.11.3)\n",
            "Requirement already satisfied: zipp>=0.5 in /usr/local/lib/python3.7/dist-packages (from importlib-metadata>=4.4->markdown>=2.6.8->tensorboard~=2.6->tensorflow==2.7.0) (3.8.0)\n",
            "Requirement already satisfied: pyasn1<0.5.0,>=0.4.6 in /usr/local/lib/python3.7/dist-packages (from pyasn1-modules>=0.2.1->google-auth<3,>=1.6.3->tensorboard~=2.6->tensorflow==2.7.0) (0.4.8)\n",
            "Requirement already satisfied: certifi>=2017.4.17 in /usr/local/lib/python3.7/dist-packages (from requests<3,>=2.21.0->tensorboard~=2.6->tensorflow==2.7.0) (2021.10.8)\n",
            "Requirement already satisfied: chardet<4,>=3.0.2 in /usr/local/lib/python3.7/dist-packages (from requests<3,>=2.21.0->tensorboard~=2.6->tensorflow==2.7.0) (3.0.4)\n",
            "Requirement already satisfied: urllib3!=1.25.0,!=1.25.1,<1.26,>=1.21.1 in /usr/local/lib/python3.7/dist-packages (from requests<3,>=2.21.0->tensorboard~=2.6->tensorflow==2.7.0) (1.24.3)\n",
            "Requirement already satisfied: idna<3,>=2.5 in /usr/local/lib/python3.7/dist-packages (from requests<3,>=2.21.0->tensorboard~=2.6->tensorflow==2.7.0) (2.10)\n",
            "Requirement already satisfied: oauthlib>=3.0.0 in /usr/local/lib/python3.7/dist-packages (from requests-oauthlib>=0.7.0->google-auth-oauthlib<0.5,>=0.4.1->tensorboard~=2.6->tensorflow==2.7.0) (3.2.0)\n",
            "Collecting google-api-core==1.21.0\n",
            "  Downloading google_api_core-1.21.0-py2.py3-none-any.whl (90 kB)\n",
            "\u001b[K     |████████████████████████████████| 90 kB 8.8 MB/s \n",
            "\u001b[?25hCollecting google-auth<3,>=1.6.3\n",
            "  Downloading google_auth-1.18.0-py2.py3-none-any.whl (90 kB)\n",
            "\u001b[K     |████████████████████████████████| 90 kB 9.6 MB/s \n",
            "\u001b[?25hCollecting sympy==1.8\n",
            "  Downloading sympy-1.8-py3-none-any.whl (6.1 MB)\n",
            "\u001b[K     |████████████████████████████████| 6.1 MB 35.5 MB/s \n",
            "\u001b[?25hCollecting cirq-google>=0.13.1\n",
            "  Downloading cirq_google-0.14.1-py3-none-any.whl (541 kB)\n",
            "\u001b[K     |████████████████████████████████| 541 kB 35.5 MB/s \n",
            "\u001b[?25hCollecting googleapis-common-protos==1.52.0\n",
            "  Downloading googleapis_common_protos-1.52.0-py2.py3-none-any.whl (100 kB)\n",
            "\u001b[K     |████████████████████████████████| 100 kB 10.3 MB/s \n",
            "\u001b[?25hCollecting cirq-core>=0.13.1\n",
            "  Downloading cirq_core-0.14.1-py3-none-any.whl (1.8 MB)\n",
            "\u001b[K     |████████████████████████████████| 1.8 MB 38.7 MB/s \n",
            "\u001b[?25hRequirement already satisfied: pytz in /usr/local/lib/python3.7/dist-packages (from google-api-core==1.21.0->tensorflow-quantum) (2022.1)\n",
            "Requirement already satisfied: mpmath>=0.19 in /usr/local/lib/python3.7/dist-packages (from sympy==1.8->tensorflow-quantum) (1.2.1)\n",
            "Collecting backports.cached-property~=1.0.1\n",
            "  Downloading backports.cached_property-1.0.1-py3-none-any.whl (5.7 kB)\n",
            "Requirement already satisfied: scipy in /usr/local/lib/python3.7/dist-packages (from cirq-core>=0.13.1->tensorflow-quantum) (1.7.3)\n",
            "Requirement already satisfied: tqdm in /usr/local/lib/python3.7/dist-packages (from cirq-core>=0.13.1->tensorflow-quantum) (4.64.0)\n",
            "Requirement already satisfied: pandas in /usr/local/lib/python3.7/dist-packages (from cirq-core>=0.13.1->tensorflow-quantum) (1.3.5)\n",
            "Collecting duet~=0.2.0\n",
            "  Downloading duet-0.2.6-py3-none-any.whl (28 kB)\n",
            "Requirement already satisfied: matplotlib~=3.0 in /usr/local/lib/python3.7/dist-packages (from cirq-core>=0.13.1->tensorflow-quantum) (3.2.2)\n",
            "Requirement already satisfied: networkx~=2.4 in /usr/local/lib/python3.7/dist-packages (from cirq-core>=0.13.1->tensorflow-quantum) (2.6.3)\n",
            "Requirement already satisfied: sortedcontainers~=2.0 in /usr/local/lib/python3.7/dist-packages (from cirq-core>=0.13.1->tensorflow-quantum) (2.4.0)\n",
            "Requirement already satisfied: google-api-core[grpc]<2.0.0dev,>=1.14.0 in /usr/local/lib/python3.7/dist-packages (from cirq-google>=0.13.1->tensorflow-quantum) (1.31.5)\n",
            "Collecting typing-extensions>=3.6.6\n",
            "  Downloading typing_extensions-3.10.0.0-py3-none-any.whl (26 kB)\n",
            "Collecting google-api-core[grpc]<2.0.0dev,>=1.14.0\n",
            "  Downloading google_api_core-1.31.4-py2.py3-none-any.whl (93 kB)\n",
            "\u001b[K     |████████████████████████████████| 93 kB 1.6 MB/s \n",
            "\u001b[?25h  Downloading google_api_core-1.31.3-py2.py3-none-any.whl (93 kB)\n",
            "\u001b[K     |████████████████████████████████| 93 kB 1.5 MB/s \n",
            "\u001b[?25h  Downloading google_api_core-1.31.2-py2.py3-none-any.whl (93 kB)\n",
            "\u001b[K     |████████████████████████████████| 93 kB 1.6 MB/s \n",
            "\u001b[?25h  Downloading google_api_core-1.31.1-py2.py3-none-any.whl (93 kB)\n",
            "\u001b[K     |████████████████████████████████| 93 kB 1.5 MB/s \n",
            "\u001b[?25h  Downloading google_api_core-1.31.0-py2.py3-none-any.whl (93 kB)\n",
            "\u001b[K     |████████████████████████████████| 93 kB 1.4 MB/s \n",
            "\u001b[?25h  Downloading google_api_core-1.30.0-py2.py3-none-any.whl (93 kB)\n",
            "\u001b[K     |████████████████████████████████| 93 kB 1.5 MB/s \n",
            "\u001b[?25h  Downloading google_api_core-1.29.0-py2.py3-none-any.whl (93 kB)\n",
            "\u001b[K     |████████████████████████████████| 93 kB 1.2 MB/s \n",
            "\u001b[?25h  Downloading google_api_core-1.28.0-py2.py3-none-any.whl (92 kB)\n",
            "\u001b[K     |████████████████████████████████| 92 kB 1.1 MB/s \n",
            "\u001b[?25h  Downloading google_api_core-1.27.0-py2.py3-none-any.whl (93 kB)\n",
            "\u001b[K     |████████████████████████████████| 93 kB 1.5 MB/s \n",
            "\u001b[?25h  Downloading google_api_core-1.26.3-py2.py3-none-any.whl (93 kB)\n",
            "\u001b[K     |████████████████████████████████| 93 kB 1.5 MB/s \n",
            "\u001b[?25h  Downloading google_api_core-1.26.2-py2.py3-none-any.whl (93 kB)\n",
            "\u001b[K     |████████████████████████████████| 93 kB 1.0 MB/s \n",
            "\u001b[?25h  Downloading google_api_core-1.26.1-py2.py3-none-any.whl (92 kB)\n",
            "\u001b[K     |████████████████████████████████| 92 kB 1.1 MB/s \n",
            "\u001b[?25h  Downloading google_api_core-1.26.0-py2.py3-none-any.whl (92 kB)\n",
            "\u001b[K     |████████████████████████████████| 92 kB 1.1 MB/s \n",
            "\u001b[?25h  Downloading google_api_core-1.25.1-py2.py3-none-any.whl (92 kB)\n",
            "\u001b[K     |████████████████████████████████| 92 kB 259 kB/s \n",
            "\u001b[?25h  Downloading google_api_core-1.25.0-py2.py3-none-any.whl (92 kB)\n",
            "\u001b[K     |████████████████████████████████| 92 kB 175 kB/s \n",
            "\u001b[?25h  Downloading google_api_core-1.24.1-py2.py3-none-any.whl (92 kB)\n",
            "\u001b[K     |████████████████████████████████| 92 kB 10.6 MB/s \n",
            "\u001b[?25h  Downloading google_api_core-1.24.0-py2.py3-none-any.whl (91 kB)\n",
            "\u001b[K     |████████████████████████████████| 91 kB 10.6 MB/s \n",
            "\u001b[?25h  Downloading google_api_core-1.23.0-py2.py3-none-any.whl (91 kB)\n",
            "\u001b[K     |████████████████████████████████| 91 kB 10.9 MB/s \n",
            "\u001b[?25h  Downloading google_api_core-1.22.4-py2.py3-none-any.whl (91 kB)\n",
            "\u001b[K     |████████████████████████████████| 91 kB 11.0 MB/s \n",
            "\u001b[?25h  Downloading google_api_core-1.22.3-py2.py3-none-any.whl (91 kB)\n",
            "\u001b[K     |████████████████████████████████| 91 kB 10.5 MB/s \n",
            "\u001b[?25h  Downloading google_api_core-1.22.2-py2.py3-none-any.whl (91 kB)\n",
            "\u001b[K     |████████████████████████████████| 91 kB 10.8 MB/s \n",
            "\u001b[?25h  Downloading google_api_core-1.22.1-py2.py3-none-any.whl (91 kB)\n",
            "\u001b[K     |████████████████████████████████| 91 kB 8.8 MB/s \n",
            "\u001b[?25h  Downloading google_api_core-1.22.0-py2.py3-none-any.whl (91 kB)\n",
            "\u001b[K     |████████████████████████████████| 91 kB 10.6 MB/s \n",
            "\u001b[?25hRequirement already satisfied: pyparsing!=2.0.4,!=2.1.2,!=2.1.6,>=2.0.1 in /usr/local/lib/python3.7/dist-packages (from matplotlib~=3.0->cirq-core>=0.13.1->tensorflow-quantum) (3.0.8)\n",
            "Requirement already satisfied: cycler>=0.10 in /usr/local/lib/python3.7/dist-packages (from matplotlib~=3.0->cirq-core>=0.13.1->tensorflow-quantum) (0.11.0)\n",
            "Requirement already satisfied: kiwisolver>=1.0.1 in /usr/local/lib/python3.7/dist-packages (from matplotlib~=3.0->cirq-core>=0.13.1->tensorflow-quantum) (1.4.2)\n",
            "Requirement already satisfied: python-dateutil>=2.1 in /usr/local/lib/python3.7/dist-packages (from matplotlib~=3.0->cirq-core>=0.13.1->tensorflow-quantum) (2.8.2)\n",
            "Installing collected packages: typing-extensions, googleapis-common-protos, google-auth, sympy, google-api-core, duet, backports.cached-property, cirq-core, tensorflow-estimator, keras, gast, cirq-google, tensorflow-quantum, tensorflow\n",
            "  Attempting uninstall: typing-extensions\n",
            "    Found existing installation: typing-extensions 4.2.0\n",
            "    Uninstalling typing-extensions-4.2.0:\n",
            "      Successfully uninstalled typing-extensions-4.2.0\n",
            "  Attempting uninstall: googleapis-common-protos\n",
            "    Found existing installation: googleapis-common-protos 1.56.0\n",
            "    Uninstalling googleapis-common-protos-1.56.0:\n",
            "      Successfully uninstalled googleapis-common-protos-1.56.0\n",
            "  Attempting uninstall: google-auth\n",
            "    Found existing installation: google-auth 1.35.0\n",
            "    Uninstalling google-auth-1.35.0:\n",
            "      Successfully uninstalled google-auth-1.35.0\n",
            "  Attempting uninstall: sympy\n",
            "    Found existing installation: sympy 1.7.1\n",
            "    Uninstalling sympy-1.7.1:\n",
            "      Successfully uninstalled sympy-1.7.1\n",
            "  Attempting uninstall: google-api-core\n",
            "    Found existing installation: google-api-core 1.31.5\n",
            "    Uninstalling google-api-core-1.31.5:\n",
            "      Successfully uninstalled google-api-core-1.31.5\n",
            "  Attempting uninstall: tensorflow-estimator\n",
            "    Found existing installation: tensorflow-estimator 2.8.0\n",
            "    Uninstalling tensorflow-estimator-2.8.0:\n",
            "      Successfully uninstalled tensorflow-estimator-2.8.0\n",
            "  Attempting uninstall: keras\n",
            "    Found existing installation: keras 2.8.0\n",
            "    Uninstalling keras-2.8.0:\n",
            "      Successfully uninstalled keras-2.8.0\n",
            "  Attempting uninstall: gast\n",
            "    Found existing installation: gast 0.5.3\n",
            "    Uninstalling gast-0.5.3:\n",
            "      Successfully uninstalled gast-0.5.3\n",
            "  Attempting uninstall: tensorflow\n",
            "    Found existing installation: tensorflow 2.8.0\n",
            "    Uninstalling tensorflow-2.8.0:\n",
            "      Successfully uninstalled tensorflow-2.8.0\n",
            "\u001b[31mERROR: pip's dependency resolver does not currently take into account all the packages that are installed. This behaviour is the source of the following dependency conflicts.\n",
            "pydata-google-auth 1.4.0 requires google-auth<3.0dev,>=1.25.0; python_version >= \"3.6\", but you have google-auth 1.18.0 which is incompatible.\n",
            "google-cloud-bigquery-storage 1.1.1 requires google-api-core[grpc]!=2.0.*,!=2.1.*,!=2.2.*,!=2.3.0,<3.0.0dev,>=1.31.5, but you have google-api-core 1.21.0 which is incompatible.\u001b[0m\n",
            "Successfully installed backports.cached-property-1.0.1 cirq-core-0.14.1 cirq-google-0.14.1 duet-0.2.6 gast-0.4.0 google-api-core-1.21.0 google-auth-1.18.0 googleapis-common-protos-1.52.0 keras-2.7.0 sympy-1.8 tensorflow-2.7.0 tensorflow-estimator-2.7.0 tensorflow-quantum-0.6.1 typing-extensions-3.10.0.0\n"
          ]
        },
        {
          "output_type": "display_data",
          "data": {
            "application/vnd.colab-display-data+json": {
              "pip_warning": {
                "packages": [
                  "gast",
                  "google",
                  "keras",
                  "sympy",
                  "tensorflow",
                  "typing_extensions"
                ]
              }
            }
          },
          "metadata": {}
        },
        {
          "output_type": "stream",
          "name": "stdout",
          "text": [
            "Collecting pennylane\n",
            "  Downloading PennyLane-0.23.0-py3-none-any.whl (914 kB)\n",
            "\u001b[?25l\r\u001b[K     |▍                               | 10 kB 19.7 MB/s eta 0:00:01\r\u001b[K     |▊                               | 20 kB 10.9 MB/s eta 0:00:01\r\u001b[K     |█                               | 30 kB 9.0 MB/s eta 0:00:01\r\u001b[K     |█▍                              | 40 kB 8.4 MB/s eta 0:00:01\r\u001b[K     |█▉                              | 51 kB 4.6 MB/s eta 0:00:01\r\u001b[K     |██▏                             | 61 kB 5.4 MB/s eta 0:00:01\r\u001b[K     |██▌                             | 71 kB 5.5 MB/s eta 0:00:01\r\u001b[K     |██▉                             | 81 kB 4.2 MB/s eta 0:00:01\r\u001b[K     |███▎                            | 92 kB 4.7 MB/s eta 0:00:01\r\u001b[K     |███▋                            | 102 kB 5.2 MB/s eta 0:00:01\r\u001b[K     |████                            | 112 kB 5.2 MB/s eta 0:00:01\r\u001b[K     |████▎                           | 122 kB 5.2 MB/s eta 0:00:01\r\u001b[K     |████▋                           | 133 kB 5.2 MB/s eta 0:00:01\r\u001b[K     |█████                           | 143 kB 5.2 MB/s eta 0:00:01\r\u001b[K     |█████▍                          | 153 kB 5.2 MB/s eta 0:00:01\r\u001b[K     |█████▊                          | 163 kB 5.2 MB/s eta 0:00:01\r\u001b[K     |██████                          | 174 kB 5.2 MB/s eta 0:00:01\r\u001b[K     |██████▌                         | 184 kB 5.2 MB/s eta 0:00:01\r\u001b[K     |██████▉                         | 194 kB 5.2 MB/s eta 0:00:01\r\u001b[K     |███████▏                        | 204 kB 5.2 MB/s eta 0:00:01\r\u001b[K     |███████▌                        | 215 kB 5.2 MB/s eta 0:00:01\r\u001b[K     |███████▉                        | 225 kB 5.2 MB/s eta 0:00:01\r\u001b[K     |████████▎                       | 235 kB 5.2 MB/s eta 0:00:01\r\u001b[K     |████████▋                       | 245 kB 5.2 MB/s eta 0:00:01\r\u001b[K     |█████████                       | 256 kB 5.2 MB/s eta 0:00:01\r\u001b[K     |█████████▎                      | 266 kB 5.2 MB/s eta 0:00:01\r\u001b[K     |█████████▊                      | 276 kB 5.2 MB/s eta 0:00:01\r\u001b[K     |██████████                      | 286 kB 5.2 MB/s eta 0:00:01\r\u001b[K     |██████████▍                     | 296 kB 5.2 MB/s eta 0:00:01\r\u001b[K     |██████████▊                     | 307 kB 5.2 MB/s eta 0:00:01\r\u001b[K     |███████████▏                    | 317 kB 5.2 MB/s eta 0:00:01\r\u001b[K     |███████████▌                    | 327 kB 5.2 MB/s eta 0:00:01\r\u001b[K     |███████████▉                    | 337 kB 5.2 MB/s eta 0:00:01\r\u001b[K     |████████████▏                   | 348 kB 5.2 MB/s eta 0:00:01\r\u001b[K     |████████████▌                   | 358 kB 5.2 MB/s eta 0:00:01\r\u001b[K     |█████████████                   | 368 kB 5.2 MB/s eta 0:00:01\r\u001b[K     |█████████████▎                  | 378 kB 5.2 MB/s eta 0:00:01\r\u001b[K     |█████████████▋                  | 389 kB 5.2 MB/s eta 0:00:01\r\u001b[K     |██████████████                  | 399 kB 5.2 MB/s eta 0:00:01\r\u001b[K     |██████████████▍                 | 409 kB 5.2 MB/s eta 0:00:01\r\u001b[K     |██████████████▊                 | 419 kB 5.2 MB/s eta 0:00:01\r\u001b[K     |███████████████                 | 430 kB 5.2 MB/s eta 0:00:01\r\u001b[K     |███████████████▍                | 440 kB 5.2 MB/s eta 0:00:01\r\u001b[K     |███████████████▊                | 450 kB 5.2 MB/s eta 0:00:01\r\u001b[K     |████████████████▏               | 460 kB 5.2 MB/s eta 0:00:01\r\u001b[K     |████████████████▌               | 471 kB 5.2 MB/s eta 0:00:01\r\u001b[K     |████████████████▉               | 481 kB 5.2 MB/s eta 0:00:01\r\u001b[K     |█████████████████▏              | 491 kB 5.2 MB/s eta 0:00:01\r\u001b[K     |█████████████████▋              | 501 kB 5.2 MB/s eta 0:00:01\r\u001b[K     |██████████████████              | 512 kB 5.2 MB/s eta 0:00:01\r\u001b[K     |██████████████████▎             | 522 kB 5.2 MB/s eta 0:00:01\r\u001b[K     |██████████████████▋             | 532 kB 5.2 MB/s eta 0:00:01\r\u001b[K     |███████████████████             | 542 kB 5.2 MB/s eta 0:00:01\r\u001b[K     |███████████████████▍            | 552 kB 5.2 MB/s eta 0:00:01\r\u001b[K     |███████████████████▊            | 563 kB 5.2 MB/s eta 0:00:01\r\u001b[K     |████████████████████            | 573 kB 5.2 MB/s eta 0:00:01\r\u001b[K     |████████████████████▍           | 583 kB 5.2 MB/s eta 0:00:01\r\u001b[K     |████████████████████▉           | 593 kB 5.2 MB/s eta 0:00:01\r\u001b[K     |█████████████████████▏          | 604 kB 5.2 MB/s eta 0:00:01\r\u001b[K     |█████████████████████▌          | 614 kB 5.2 MB/s eta 0:00:01\r\u001b[K     |█████████████████████▉          | 624 kB 5.2 MB/s eta 0:00:01\r\u001b[K     |██████████████████████▎         | 634 kB 5.2 MB/s eta 0:00:01\r\u001b[K     |██████████████████████▋         | 645 kB 5.2 MB/s eta 0:00:01\r\u001b[K     |███████████████████████         | 655 kB 5.2 MB/s eta 0:00:01\r\u001b[K     |███████████████████████▎        | 665 kB 5.2 MB/s eta 0:00:01\r\u001b[K     |███████████████████████▋        | 675 kB 5.2 MB/s eta 0:00:01\r\u001b[K     |████████████████████████        | 686 kB 5.2 MB/s eta 0:00:01\r\u001b[K     |████████████████████████▍       | 696 kB 5.2 MB/s eta 0:00:01\r\u001b[K     |████████████████████████▊       | 706 kB 5.2 MB/s eta 0:00:01\r\u001b[K     |█████████████████████████       | 716 kB 5.2 MB/s eta 0:00:01\r\u001b[K     |█████████████████████████▌      | 727 kB 5.2 MB/s eta 0:00:01\r\u001b[K     |█████████████████████████▉      | 737 kB 5.2 MB/s eta 0:00:01\r\u001b[K     |██████████████████████████▏     | 747 kB 5.2 MB/s eta 0:00:01\r\u001b[K     |██████████████████████████▌     | 757 kB 5.2 MB/s eta 0:00:01\r\u001b[K     |██████████████████████████▉     | 768 kB 5.2 MB/s eta 0:00:01\r\u001b[K     |███████████████████████████▎    | 778 kB 5.2 MB/s eta 0:00:01\r\u001b[K     |███████████████████████████▋    | 788 kB 5.2 MB/s eta 0:00:01\r\u001b[K     |████████████████████████████    | 798 kB 5.2 MB/s eta 0:00:01\r\u001b[K     |████████████████████████████▎   | 808 kB 5.2 MB/s eta 0:00:01\r\u001b[K     |████████████████████████████▊   | 819 kB 5.2 MB/s eta 0:00:01\r\u001b[K     |█████████████████████████████   | 829 kB 5.2 MB/s eta 0:00:01\r\u001b[K     |█████████████████████████████▍  | 839 kB 5.2 MB/s eta 0:00:01\r\u001b[K     |█████████████████████████████▊  | 849 kB 5.2 MB/s eta 0:00:01\r\u001b[K     |██████████████████████████████  | 860 kB 5.2 MB/s eta 0:00:01\r\u001b[K     |██████████████████████████████▌ | 870 kB 5.2 MB/s eta 0:00:01\r\u001b[K     |██████████████████████████████▉ | 880 kB 5.2 MB/s eta 0:00:01\r\u001b[K     |███████████████████████████████▏| 890 kB 5.2 MB/s eta 0:00:01\r\u001b[K     |███████████████████████████████▌| 901 kB 5.2 MB/s eta 0:00:01\r\u001b[K     |████████████████████████████████| 911 kB 5.2 MB/s eta 0:00:01\r\u001b[K     |████████████████████████████████| 914 kB 5.2 MB/s \n",
            "\u001b[?25hCollecting autoray\n",
            "  Downloading autoray-0.2.5-py3-none-any.whl (16 kB)\n",
            "Requirement already satisfied: numpy in /usr/local/lib/python3.7/dist-packages (from pennylane) (1.21.6)\n",
            "Requirement already satisfied: autograd in /usr/local/lib/python3.7/dist-packages (from pennylane) (1.4)\n",
            "Collecting toml\n",
            "  Downloading toml-0.10.2-py2.py3-none-any.whl (16 kB)\n",
            "Requirement already satisfied: retworkx in /usr/local/lib/python3.7/dist-packages (from pennylane) (0.11.0)\n",
            "Requirement already satisfied: appdirs in /usr/local/lib/python3.7/dist-packages (from pennylane) (1.4.4)\n",
            "Requirement already satisfied: scipy in /usr/local/lib/python3.7/dist-packages (from pennylane) (1.7.3)\n",
            "Requirement already satisfied: cachetools in /usr/local/lib/python3.7/dist-packages (from pennylane) (4.2.4)\n",
            "Requirement already satisfied: networkx in /usr/local/lib/python3.7/dist-packages (from pennylane) (2.6.3)\n",
            "Collecting pennylane-lightning>=0.23\n",
            "  Downloading PennyLane_Lightning-0.23.0-cp37-cp37m-manylinux_2_17_x86_64.manylinux2014_x86_64.whl (8.8 MB)\n",
            "\u001b[K     |████████████████████████████████| 8.8 MB 20.7 MB/s \n",
            "\u001b[?25hCollecting semantic-version==2.6\n",
            "  Downloading semantic_version-2.6.0-py3-none-any.whl (14 kB)\n",
            "Collecting ninja\n",
            "  Downloading ninja-1.10.2.3-py2.py3-none-manylinux_2_5_x86_64.manylinux1_x86_64.whl (108 kB)\n",
            "\u001b[K     |████████████████████████████████| 108 kB 48.1 MB/s \n",
            "\u001b[?25hRequirement already satisfied: future>=0.15.2 in /usr/local/lib/python3.7/dist-packages (from autograd->pennylane) (0.16.0)\n",
            "Installing collected packages: ninja, toml, semantic-version, pennylane-lightning, autoray, pennylane\n",
            "Successfully installed autoray-0.2.5 ninja-1.10.2.3 pennylane-0.23.0 pennylane-lightning-0.23.0 semantic-version-2.6.0 toml-0.10.2\n"
          ]
        }
      ]
    },
    {
      "cell_type": "markdown",
      "source": [
        "Import modules and dependecies"
      ],
      "metadata": {
        "id": "ZfRKDvaEUJXj"
      }
    },
    {
      "cell_type": "code",
      "source": [
        "import tensorflow as tf\n",
        "import tensorflow_quantum as tfq\n",
        "\n",
        "import cirq\n",
        "import sympy\n",
        "import numpy as np\n",
        "import seaborn as sns\n",
        "import collections\n",
        "\n",
        "# visualization tools\n",
        "%matplotlib inline\n",
        "import matplotlib.pyplot as plt\n",
        "from cirq.contrib.svg import SVGCircuit"
      ],
      "metadata": {
        "id": "NOQonnAJTx7o"
      },
      "execution_count": null,
      "outputs": []
    },
    {
      "cell_type": "markdown",
      "source": [
        "### Load the data\n",
        "We will build a binary classifier to distinguish between the digits 8 and 7. We will:\n",
        "- Load data from Keras.\n",
        "- Filters the dataset to only 8s and 7s.\n",
        "- Downscales the images.\n",
        "- Converts the binary images.\n",
        "- Converts the Cirq circuits to TensorFlow Quantum circuit\n"
      ],
      "metadata": {
        "id": "pF5WGVIEUh4d"
      }
    },
    {
      "cell_type": "markdown",
      "source": [
        "Load data"
      ],
      "metadata": {
        "id": "vEqhcnIjVch7"
      }
    },
    {
      "cell_type": "code",
      "source": [
        "(x_train, y_train), (x_test, y_test) = tf.keras.datasets.mnist.load_data()\n",
        "\n",
        "# Rescale the images from [0,255] to the [0.0,1.0] range.\n",
        "x_train, x_test = x_train[..., np.newaxis]/255.0, x_test[..., np.newaxis]/255.0\n",
        "\n",
        "print(\"Number of original training examples:\", len(x_train))\n",
        "print(\"Number of original test examples:\", len(x_test))"
      ],
      "metadata": {
        "colab": {
          "base_uri": "https://localhost:8080/"
        },
        "id": "a0Tnw1oiUYXl",
        "outputId": "67726622-4d65-4300-9305-d4c7b7ee7e3e"
      },
      "execution_count": null,
      "outputs": [
        {
          "output_type": "stream",
          "name": "stdout",
          "text": [
            "Number of original training examples: 60000\n",
            "Number of original test examples: 10000\n"
          ]
        }
      ]
    },
    {
      "cell_type": "code",
      "source": [
        "def filter_87(x, y):\n",
        "    keep = (y == 8) | (y == 7)\n",
        "    x, y = x[keep], y[keep]\n",
        "    y = y == 8\n",
        "    return x,y"
      ],
      "metadata": {
        "id": "_xBfp6eIUP3u"
      },
      "execution_count": null,
      "outputs": []
    },
    {
      "cell_type": "code",
      "source": [
        "x_train, y_train = filter_87(x_train, y_train)\n",
        "x_test, y_test = filter_87(x_test, y_test)\n",
        "\n",
        "print(\"Number of filtered training examples:\", len(x_train))\n",
        "print(\"Number of filtered test examples:\", len(x_test))"
      ],
      "metadata": {
        "colab": {
          "base_uri": "https://localhost:8080/"
        },
        "id": "58PnM0pBVPRO",
        "outputId": "46004ecf-6daa-4e4c-9b39-b53ca9d40042"
      },
      "execution_count": null,
      "outputs": [
        {
          "output_type": "stream",
          "name": "stdout",
          "text": [
            "Number of filtered training examples: 12116\n",
            "Number of filtered test examples: 2002\n"
          ]
        }
      ]
    },
    {
      "cell_type": "code",
      "source": [
        "print(y_train[0])\n",
        "\n",
        "plt.imshow(x_train[0, :, :, 0])\n",
        "plt.colorbar()"
      ],
      "metadata": {
        "colab": {
          "base_uri": "https://localhost:8080/",
          "height": 303
        },
        "id": "NzFr-MOBVS5v",
        "outputId": "1be54bec-ba50-4c2a-9a97-089dfeef7e00"
      },
      "execution_count": null,
      "outputs": [
        {
          "output_type": "stream",
          "name": "stdout",
          "text": [
            "False\n"
          ]
        },
        {
          "output_type": "execute_result",
          "data": {
            "text/plain": [
              "<matplotlib.colorbar.Colorbar at 0x7f3ac0b7b790>"
            ]
          },
          "metadata": {},
          "execution_count": 44
        },
        {
          "output_type": "display_data",
          "data": {
            "text/plain": [
              "<Figure size 432x288 with 2 Axes>"
            ],
            "image/png": "[encoded data removed]"
          },
          "metadata": {
            "needs_background": "light"
          }
        }
      ]
    },
    {
      "cell_type": "markdown",
      "source": [
        "Downscale the data"
      ],
      "metadata": {
        "id": "Ft7GCzE5Vevz"
      }
    },
    {
      "cell_type": "code",
      "source": [
        "x_train_small = tf.image.resize(x_train, (4,4)).numpy()\n",
        "x_test_small = tf.image.resize(x_test, (4,4)).numpy()"
      ],
      "metadata": {
        "id": "6m1CrRkmVWBx"
      },
      "execution_count": null,
      "outputs": []
    },
    {
      "cell_type": "code",
      "source": [
        "print(y_train[0])\n",
        "\n",
        "plt.imshow(x_train_small[0,:,:,0], vmin=0, vmax=1)\n",
        "plt.colorbar()"
      ],
      "metadata": {
        "colab": {
          "base_uri": "https://localhost:8080/",
          "height": 303
        },
        "id": "IWVjK-HIVZHp",
        "outputId": "dd2e49cb-67ad-4c18-e537-72cba62ed361"
      },
      "execution_count": null,
      "outputs": [
        {
          "output_type": "stream",
          "name": "stdout",
          "text": [
            "False\n"
          ]
        },
        {
          "output_type": "execute_result",
          "data": {
            "text/plain": [
              "<matplotlib.colorbar.Colorbar at 0x7f3ac0ab2bd0>"
            ]
          },
          "metadata": {},
          "execution_count": 46
        },
        {
          "output_type": "display_data",
          "data": {
            "text/plain": [
              "<Figure size 432x288 with 2 Axes>"
            ],
            "image/png": "[encoded data removed]"
          },
          "metadata": {
            "needs_background": "light"
          }
        }
      ]
    },
    {
      "cell_type": "code",
      "source": [
        "def remove_contradicting(xs, ys):\n",
        "    mapping = collections.defaultdict(set)\n",
        "    orig_x = {}\n",
        "    # Determine the set of labels for each unique image:\n",
        "    for x,y in zip(xs,ys):\n",
        "       orig_x[tuple(x.flatten())] = x\n",
        "       mapping[tuple(x.flatten())].add(y)\n",
        "\n",
        "    new_x = []\n",
        "    new_y = []\n",
        "    for flatten_x in mapping:\n",
        "      x = orig_x[flatten_x]\n",
        "      labels = mapping[flatten_x]\n",
        "      if len(labels) == 1:\n",
        "          new_x.append(x)\n",
        "          new_y.append(next(iter(labels)))\n",
        "      else:\n",
        "          # Throw out images that match more than one label.\n",
        "          pass\n",
        "\n",
        "    num_uniq_8 = sum(1 for value in mapping.values() if len(value) == 1 and True in value)\n",
        "    num_uniq_7 = sum(1 for value in mapping.values() if len(value) == 1 and False in value)\n",
        "    num_uniq_both = sum(1 for value in mapping.values() if len(value) == 2)\n",
        "\n",
        "    print(\"Number of unique images:\", len(mapping.values()))\n",
        "    print(\"Number of unique 8s: \", num_uniq_8)\n",
        "    print(\"Number of unique 7s: \", num_uniq_7)\n",
        "    print(\"Number of unique contradicting labels (both 8 and 7): \", num_uniq_both)\n",
        "    print()\n",
        "    print(\"Initial number of images: \", len(xs))\n",
        "    print(\"Remaining non-contradicting unique images: \", len(new_x))\n",
        "\n",
        "    return np.array(new_x), np.array(new_y)"
      ],
      "metadata": {
        "id": "RY2W_g27VkbQ"
      },
      "execution_count": null,
      "outputs": []
    },
    {
      "cell_type": "code",
      "source": [
        "x_train_nocon, y_train_nocon = remove_contradicting(x_train_small, y_train)"
      ],
      "metadata": {
        "colab": {
          "base_uri": "https://localhost:8080/"
        },
        "id": "vFTtgTS_V0Nt",
        "outputId": "5dfde78c-b033-49ac-e6b2-0975c1aa3627"
      },
      "execution_count": null,
      "outputs": [
        {
          "output_type": "stream",
          "name": "stdout",
          "text": [
            "Number of unique images: 11127\n",
            "Number of unique 8s:  5542\n",
            "Number of unique 7s:  5483\n",
            "Number of unique contradicting labels (both 8 and 7):  102\n",
            "\n",
            "Initial number of images:  12116\n",
            "Remaining non-contradicting unique images:  11025\n"
          ]
        }
      ]
    },
    {
      "cell_type": "code",
      "source": [
        "THRESHOLD = 0.5\n",
        "\n",
        "x_train_bin = np.array(x_train_nocon > THRESHOLD, dtype=np.float32)\n",
        "x_test_bin = np.array(x_test_small > THRESHOLD, dtype=np.float32)"
      ],
      "metadata": {
        "id": "U1d-HbBUnRRw"
      },
      "execution_count": null,
      "outputs": []
    },
    {
      "cell_type": "code",
      "source": [
        "_ = remove_contradicting(x_train_bin, y_train_nocon)"
      ],
      "metadata": {
        "colab": {
          "base_uri": "https://localhost:8080/"
        },
        "id": "H1PNVCKnnRGA",
        "outputId": "4becf0a1-6316-4ce6-98a5-f77310870b94"
      },
      "execution_count": null,
      "outputs": [
        {
          "output_type": "stream",
          "name": "stdout",
          "text": [
            "Number of unique images: 173\n",
            "Number of unique 8s:  67\n",
            "Number of unique 7s:  41\n",
            "Number of unique contradicting labels (both 8 and 7):  65\n",
            "\n",
            "Initial number of images:  11025\n",
            "Remaining non-contradicting unique images:  108\n"
          ]
        }
      ]
    },
    {
      "cell_type": "code",
      "source": [
        ""
      ],
      "metadata": {
        "id": "XPOno52onQ53"
      },
      "execution_count": null,
      "outputs": []
    },
    {
      "cell_type": "code",
      "source": [
        "def convert_to_circuit(image):\n",
        "    \"\"\"Encode truncated classical image into quantum datapoint.\"\"\"\n",
        "    values = np.ndarray.flatten(image)\n",
        "    qubits = cirq.GridQubit.rect(4, 4)\n",
        "    circuit = cirq.Circuit()\n",
        "    for i, value in enumerate(values):\n",
        "        if value:\n",
        "            circuit.append(cirq.X(qubits[i]))\n",
        "    return circuit\n",
        "\n",
        "\n",
        "x_train_circ = [convert_to_circuit(x) for x in x_train_bin]\n",
        "x_test_circ = [convert_to_circuit(x) for x in x_test_bin]"
      ],
      "metadata": {
        "id": "-ouiM9K7V1_h"
      },
      "execution_count": null,
      "outputs": []
    },
    {
      "cell_type": "code",
      "source": [
        "SVGCircuit(x_train_circ[0])"
      ],
      "metadata": {
        "colab": {
          "base_uri": "https://localhost:8080/",
          "height": 137
        },
        "id": "ZQ7gJaFnnbKT",
        "outputId": "ff5e2ed8-bd19-4147-d86f-c7c8c03ee91e"
      },
      "execution_count": null,
      "outputs": [
        {
          "output_type": "stream",
          "name": "stderr",
          "text": [
            "findfont: Font family ['Arial'] not found. Falling back to DejaVu Sans.\n"
          ]
        },
        {
          "output_type": "execute_result",
          "data": {
            "text/plain": [
              "<cirq.contrib.svg.svg.SVGCircuit at 0x7f3ac0a85290>"
            ],
            "image/svg+xml": "<svg xmlns=\"http://www.w3.org/2000/svg\" width=\"169.517734375\" height=\"100.0\"><line x1=\"34.7588671875\" x2=\"139.517734375\" y1=\"25.0\" y2=\"25.0\" stroke=\"#1967d2\" stroke-width=\"1\" /><line x1=\"34.7588671875\" x2=\"139.517734375\" y1=\"75.0\" y2=\"75.0\" stroke=\"#1967d2\" stroke-width=\"1\" /><rect x=\"10.0\" y=\"5.0\" width=\"49.517734375\" height=\"40\" stroke=\"black\" fill=\"white\" stroke-width=\"0\" /><text x=\"34.7588671875\" y=\"25.0\" dominant-baseline=\"middle\" text-anchor=\"middle\" font-size=\"14px\" font-family=\"Arial\">(1, 1): </text><rect x=\"10.0\" y=\"55.0\" width=\"49.517734375\" height=\"40\" stroke=\"black\" fill=\"white\" stroke-width=\"0\" /><text x=\"34.7588671875\" y=\"75.0\" dominant-baseline=\"middle\" text-anchor=\"middle\" font-size=\"14px\" font-family=\"Arial\">(3, 1): </text><rect x=\"79.517734375\" y=\"5.0\" width=\"40\" height=\"40\" stroke=\"black\" fill=\"white\" stroke-width=\"1\" /><text x=\"99.517734375\" y=\"25.0\" dominant-baseline=\"middle\" text-anchor=\"middle\" font-size=\"18px\" font-family=\"Arial\">X</text><rect x=\"79.517734375\" y=\"55.0\" width=\"40\" height=\"40\" stroke=\"black\" fill=\"white\" stroke-width=\"1\" /><text x=\"99.517734375\" y=\"75.0\" dominant-baseline=\"middle\" text-anchor=\"middle\" font-size=\"18px\" font-family=\"Arial\">X</text></svg>"
          },
          "metadata": {},
          "execution_count": 52
        }
      ]
    },
    {
      "cell_type": "code",
      "source": [
        "bin_img = x_train_bin[0,:,:,0]\n",
        "indices = np.array(np.where(bin_img)).T\n",
        "indices"
      ],
      "metadata": {
        "colab": {
          "base_uri": "https://localhost:8080/"
        },
        "id": "la_7H5WMnbFS",
        "outputId": "dfcfe5c8-bffd-4779-b644-88806e61ad63"
      },
      "execution_count": null,
      "outputs": [
        {
          "output_type": "execute_result",
          "data": {
            "text/plain": [
              "array([[1, 1],\n",
              "       [3, 1]])"
            ]
          },
          "metadata": {},
          "execution_count": 53
        }
      ]
    },
    {
      "cell_type": "code",
      "source": [
        "x_train_tfcirc = tfq.convert_to_tensor(x_train_circ)\n",
        "x_test_tfcirc = tfq.convert_to_tensor(x_test_circ)"
      ],
      "metadata": {
        "id": "RGDTwOsgnbA2"
      },
      "execution_count": null,
      "outputs": []
    },
    {
      "cell_type": "code",
      "source": [
        "class CircuitLayerBuilder():\n",
        "    def __init__(self, data_qubits, readout):\n",
        "        self.data_qubits = data_qubits\n",
        "        self.readout = readout\n",
        "\n",
        "    def add_layer(self, circuit, gate, prefix):\n",
        "        for i, qubit in enumerate(self.data_qubits):\n",
        "            symbol = sympy.Symbol(prefix + '-' + str(i))\n",
        "            circuit.append(gate(qubit, self.readout)**symbol)"
      ],
      "metadata": {
        "id": "lKaWfhCsna8e"
      },
      "execution_count": null,
      "outputs": []
    },
    {
      "cell_type": "code",
      "source": [
        "demo_builder = CircuitLayerBuilder(data_qubits = cirq.GridQubit.rect(4,1),\n",
        "                                   readout=cirq.GridQubit(-1,-1))\n",
        "\n",
        "circuit = cirq.Circuit()\n",
        "demo_builder.add_layer(circuit, gate = cirq.XX, prefix='xx')\n",
        "SVGCircuit(circuit)"
      ],
      "metadata": {
        "colab": {
          "base_uri": "https://localhost:8080/",
          "height": 270
        },
        "id": "gpfGiaZfnawO",
        "outputId": "bc9062c8-02c7-48ad-8a60-6d951d5feb9b"
      },
      "execution_count": null,
      "outputs": [
        {
          "output_type": "execute_result",
          "data": {
            "text/plain": [
              "<cirq.contrib.svg.svg.SVGCircuit at 0x7f3abe516a10>"
            ],
            "image/svg+xml": "<svg xmlns=\"http://www.w3.org/2000/svg\" width=\"522.59953125\" height=\"250.0\"><line x1=\"39.810625\" x2=\"492.59953125000004\" y1=\"25.0\" y2=\"25.0\" stroke=\"#1967d2\" stroke-width=\"1\" /><line x1=\"39.810625\" x2=\"492.59953125000004\" y1=\"75.0\" y2=\"75.0\" stroke=\"#1967d2\" stroke-width=\"1\" /><line x1=\"39.810625\" x2=\"492.59953125000004\" y1=\"125.0\" y2=\"125.0\" stroke=\"#1967d2\" stroke-width=\"1\" /><line x1=\"39.810625\" x2=\"492.59953125000004\" y1=\"175.0\" y2=\"175.0\" stroke=\"#1967d2\" stroke-width=\"1\" /><line x1=\"39.810625\" x2=\"492.59953125000004\" y1=\"225.0\" y2=\"225.0\" stroke=\"#1967d2\" stroke-width=\"1\" /><line x1=\"129.99353515625\" x2=\"129.99353515625\" y1=\"25.0\" y2=\"75.0\" stroke=\"black\" stroke-width=\"3\" /><line x1=\"230.73810546875004\" x2=\"230.73810546875004\" y1=\"25.0\" y2=\"125.0\" stroke=\"black\" stroke-width=\"3\" /><line x1=\"331.48267578125007\" x2=\"331.48267578125007\" y1=\"25.0\" y2=\"175.0\" stroke=\"black\" stroke-width=\"3\" /><line x1=\"432.22724609375007\" x2=\"432.22724609375007\" y1=\"25.0\" y2=\"225.0\" stroke=\"black\" stroke-width=\"3\" /><rect x=\"10.0\" y=\"5.0\" width=\"59.62125\" height=\"40\" stroke=\"black\" fill=\"white\" stroke-width=\"0\" /><text x=\"39.810625\" y=\"25.0\" dominant-baseline=\"middle\" text-anchor=\"middle\" font-size=\"14px\" font-family=\"Arial\">(-1, -1): </text><rect x=\"10.0\" y=\"55.0\" width=\"59.62125\" height=\"40\" stroke=\"black\" fill=\"white\" stroke-width=\"0\" /><text x=\"39.810625\" y=\"75.0\" dominant-baseline=\"middle\" text-anchor=\"middle\" font-size=\"14px\" font-family=\"Arial\">(0, 0): </text><rect x=\"10.0\" y=\"105.0\" width=\"59.62125\" height=\"40\" stroke=\"black\" fill=\"white\" stroke-width=\"0\" /><text x=\"39.810625\" y=\"125.0\" dominant-baseline=\"middle\" text-anchor=\"middle\" font-size=\"14px\" font-family=\"Arial\">(1, 0): </text><rect x=\"10.0\" y=\"155.0\" width=\"59.62125\" height=\"40\" stroke=\"black\" fill=\"white\" stroke-width=\"0\" /><text x=\"39.810625\" y=\"175.0\" dominant-baseline=\"middle\" text-anchor=\"middle\" font-size=\"14px\" font-family=\"Arial\">(2, 0): </text><rect x=\"10.0\" y=\"205.0\" width=\"59.62125\" height=\"40\" stroke=\"black\" fill=\"white\" stroke-width=\"0\" /><text x=\"39.810625\" y=\"225.0\" dominant-baseline=\"middle\" text-anchor=\"middle\" font-size=\"14px\" font-family=\"Arial\">(3, 0): </text><rect x=\"89.62125\" y=\"55.0\" width=\"80.74457031250002\" height=\"40\" stroke=\"black\" fill=\"white\" stroke-width=\"1\" /><text x=\"129.99353515625\" y=\"75.0\" dominant-baseline=\"middle\" text-anchor=\"middle\" font-size=\"14px\" font-family=\"Arial\">XX^(xx-0)</text><rect x=\"89.62125\" y=\"5.0\" width=\"80.74457031250002\" height=\"40\" stroke=\"black\" fill=\"white\" stroke-width=\"1\" /><text x=\"129.99353515625\" y=\"25.0\" dominant-baseline=\"middle\" text-anchor=\"middle\" font-size=\"14px\" font-family=\"Arial\">XX</text><rect x=\"190.36582031250003\" y=\"105.0\" width=\"80.74457031250002\" height=\"40\" stroke=\"black\" fill=\"white\" stroke-width=\"1\" /><text x=\"230.73810546875004\" y=\"125.0\" dominant-baseline=\"middle\" text-anchor=\"middle\" font-size=\"14px\" font-family=\"Arial\">XX^(xx-1)</text><rect x=\"190.36582031250003\" y=\"5.0\" width=\"80.74457031250002\" height=\"40\" stroke=\"black\" fill=\"white\" stroke-width=\"1\" /><text x=\"230.73810546875004\" y=\"25.0\" dominant-baseline=\"middle\" text-anchor=\"middle\" font-size=\"14px\" font-family=\"Arial\">XX</text><rect x=\"291.11039062500004\" y=\"155.0\" width=\"80.74457031250002\" height=\"40\" stroke=\"black\" fill=\"white\" stroke-width=\"1\" /><text x=\"331.48267578125007\" y=\"175.0\" dominant-baseline=\"middle\" text-anchor=\"middle\" font-size=\"14px\" font-family=\"Arial\">XX^(xx-2)</text><rect x=\"291.11039062500004\" y=\"5.0\" width=\"80.74457031250002\" height=\"40\" stroke=\"black\" fill=\"white\" stroke-width=\"1\" /><text x=\"331.48267578125007\" y=\"25.0\" dominant-baseline=\"middle\" text-anchor=\"middle\" font-size=\"14px\" font-family=\"Arial\">XX</text><rect x=\"391.85496093750004\" y=\"205.0\" width=\"80.74457031250002\" height=\"40\" stroke=\"black\" fill=\"white\" stroke-width=\"1\" /><text x=\"432.22724609375007\" y=\"225.0\" dominant-baseline=\"middle\" text-anchor=\"middle\" font-size=\"14px\" font-family=\"Arial\">XX^(xx-3)</text><rect x=\"391.85496093750004\" y=\"5.0\" width=\"80.74457031250002\" height=\"40\" stroke=\"black\" fill=\"white\" stroke-width=\"1\" /><text x=\"432.22724609375007\" y=\"25.0\" dominant-baseline=\"middle\" text-anchor=\"middle\" font-size=\"14px\" font-family=\"Arial\">XX</text></svg>"
          },
          "metadata": {},
          "execution_count": 56
        }
      ]
    },
    {
      "cell_type": "code",
      "source": [
        "def create_quantum_model():\n",
        "    \"\"\"Create a QNN model circuit and readout operation to go along with it.\"\"\"\n",
        "    data_qubits = cirq.GridQubit.rect(4, 4)  # a 4x4 grid.\n",
        "    readout = cirq.GridQubit(-1, -1)         # a single qubit at [-1,-1]\n",
        "    circuit = cirq.Circuit()\n",
        "\n",
        "    # Prepare the readout qubit.\n",
        "    circuit.append(cirq.X(readout))\n",
        "    circuit.append(cirq.H(readout))\n",
        "\n",
        "    builder = CircuitLayerBuilder(\n",
        "        data_qubits = data_qubits,\n",
        "        readout=readout)\n",
        "\n",
        "    # Then add layers (experiment by adding more).\n",
        "    builder.add_layer(circuit, cirq.XX, \"xx1\")\n",
        "    builder.add_layer(circuit, cirq.ZZ, \"zz1\")\n",
        "\n",
        "    # Finally, prepare the readout qubit.\n",
        "    circuit.append(cirq.H(readout))\n",
        "\n",
        "    return circuit, cirq.Z(readout)"
      ],
      "metadata": {
        "id": "SjJEt7P6natH"
      },
      "execution_count": null,
      "outputs": []
    },
    {
      "cell_type": "code",
      "source": [
        "model_circuit, model_readout = create_quantum_model()"
      ],
      "metadata": {
        "id": "z0dyD5Iknaft"
      },
      "execution_count": null,
      "outputs": []
    },
    {
      "cell_type": "code",
      "source": [
        "# Build the Keras model.\n",
        "model = tf.keras.Sequential([\n",
        "    # The input is the data-circuit, encoded as a tf.string\n",
        "    tf.keras.layers.Input(shape=(), dtype=tf.string),\n",
        "    # The PQC layer returns the expected value of the readout gate, range [-1,1].\n",
        "    tfq.layers.PQC(model_circuit, model_readout),\n",
        "    tf.keras.layers.Input(shape=(), dtype=tf.string),\n",
        "\n",
        "])"
      ],
      "metadata": {
        "id": "A201Z2GJnvVk"
      },
      "execution_count": null,
      "outputs": []
    },
    {
      "cell_type": "code",
      "source": [
        "y_train_hinge = 2.0*y_train_nocon-1.0\n",
        "y_test_hinge = 2.0*y_test-1.0"
      ],
      "metadata": {
        "id": "gZONi3klnvLv"
      },
      "execution_count": null,
      "outputs": []
    },
    {
      "cell_type": "code",
      "source": [
        "def hinge_accuracy(y_true, y_pred):\n",
        "    y_true = tf.squeeze(y_true) > 0.0\n",
        "    y_pred = tf.squeeze(y_pred) > 0.0\n",
        "    result = tf.cast(y_true == y_pred, tf.float32)\n",
        "\n",
        "    return tf.reduce_mean(result)"
      ],
      "metadata": {
        "id": "nfBXmeNDnvIM"
      },
      "execution_count": null,
      "outputs": []
    },
    {
      "cell_type": "code",
      "source": [
        "model.compile(\n",
        "    loss=tf.keras.losses.Hinge(),\n",
        "    optimizer=tf.keras.optimizers.Adam(),\n",
        "    metrics=[hinge_accuracy])"
      ],
      "metadata": {
        "id": "pb4XcEPlnu7U"
      },
      "execution_count": null,
      "outputs": []
    },
    {
      "cell_type": "code",
      "source": [
        "print(model.summary())"
      ],
      "metadata": {
        "colab": {
          "base_uri": "https://localhost:8080/"
        },
        "id": "UrAENW51nuv3",
        "outputId": "515de939-c2e7-475a-a58c-7a08a35377ea"
      },
      "execution_count": null,
      "outputs": [
        {
          "output_type": "stream",
          "name": "stdout",
          "text": [
            "Model: \"sequential_2\"\n",
            "_________________________________________________________________\n",
            " Layer (type)                Output Shape              Param #   \n",
            "=================================================================\n",
            " pqc (PQC)                   (None, 1)                 32        \n",
            "                                                                 \n",
            "=================================================================\n",
            "Total params: 32\n",
            "Trainable params: 32\n",
            "Non-trainable params: 0\n",
            "_________________________________________________________________\n",
            "None\n"
          ]
        }
      ]
    },
    {
      "cell_type": "code",
      "source": [
        "EPOCHS = 10\n",
        "BATCH_SIZE = 512\n",
        "\n",
        "NUM_EXAMPLES = len(x_train_tfcirc)"
      ],
      "metadata": {
        "id": "5U36bxKmnZ3f"
      },
      "execution_count": null,
      "outputs": []
    },
    {
      "cell_type": "code",
      "source": [
        "x_train_tfcirc_sub = x_train_tfcirc[:NUM_EXAMPLES]\n",
        "y_train_hinge_sub = y_train_hinge[:NUM_EXAMPLES]"
      ],
      "metadata": {
        "id": "1VGZRJYzn-3A"
      },
      "execution_count": null,
      "outputs": []
    },
    {
      "cell_type": "code",
      "source": [
        "qnn_history = model.fit(\n",
        "      x_train_tfcirc_sub, y_train_hinge_sub,\n",
        "      batch_size=32,\n",
        "      epochs=EPOCHS,\n",
        "      verbose=1,\n",
        "      validation_data=(x_test_tfcirc, y_test_hinge))\n",
        "\n",
        "qnn_results = model.evaluate(x_test_tfcirc, y_test)"
      ],
      "metadata": {
        "colab": {
          "base_uri": "https://localhost:8080/"
        },
        "id": "eQ1rNx9Wn-yi",
        "outputId": "052b5951-6599-4861-b4e6-df8ff54a4b6a"
      },
      "execution_count": null,
      "outputs": [
        {
          "output_type": "stream",
          "name": "stdout",
          "text": [
            "Epoch 1/10\n",
            "345/345 [==============================] - ETA: 0s - loss: 0.9761 - hinge_accuracy: 0.5439"
          ]
        }
      ]
    },
    {
      "cell_type": "code",
      "source": [
        ""
      ],
      "metadata": {
        "id": "MrCaHx1Zn-po"
      },
      "execution_count": null,
      "outputs": []
    },
    {
      "cell_type": "code",
      "source": [
        ""
      ],
      "metadata": {
        "id": "Gay2m_BHn-l7"
      },
      "execution_count": null,
      "outputs": []
    },
    {
      "cell_type": "markdown",
      "source": [
        "## 5. References\n",
        "\n",
        "1. [refinitiv article](https://developers.refinitiv.com/en/article-catalog/article/tensorflow-variational-quantum-neural-networks-in-finance)\n",
        "2. [Qiskit tutorial](https://qiskit.org/textbook/ch-machine-learning/machine-learning-qiskit-pytorch.html?ref=morioh.com&utm_source=morioh.com)\n",
        "3. [Tensorflow QCONV](https://www.tensorflow.org/quantum/tutorials/qcnn)\n",
        "4. [Variational Quantum Classifier](https://github.com/0x6f736f646f/variational-quantum-classifier-on-heartattack)\n",
        "5. [Blog on VQC](https://rodneyosodo.medium.com/qa1-my-quantum-open-source-foundation-project-402d4f1df1a5)\n",
        "6. [Google tensorflow with cirq](https://www.tensorflow.org/quantum/tutorials/mnist#2_quantum_neural_network)\n",
        "7. [Classification with Quantum Neural Networks\n",
        "on Near Term Processors](https://arxiv.org/pdf/1912.06184.pdf)\n",
        "8. [Implement A Hybrid Quantum Classical Neural Network With Qiskit](https://medium.com/qiskit/implement-a-hybrid-quantum-classical-neural-network-with-qiskit-7f732ed3b42a)\n",
        "9. [Mnist hybrid QNN](https://w11wo.github.io/posts/2020/07/mnist-hybrid-qnn/)\n",
        "10. [Pennylane](https://pennylane.ai/qml/demos/tutorial_quanvolution.html)\n",
        "11. []()\n",
        "\n"
      ],
      "metadata": {
        "id": "MqnBquO3pt-l"
      }
    },
    {
      "cell_type": "code",
      "source": [
        ""
      ],
      "metadata": {
        "id": "tKHWhhoVDxyl"
      },
      "execution_count": null,
      "outputs": []
    }
  ]
}